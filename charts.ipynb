{
 "cells": [
  {
   "cell_type": "code",
   "execution_count": 1,
   "metadata": {},
   "outputs": [],
   "source": [
    "import pandas as pd\n",
    "import numpy as np\n",
    "\n",
    "import plotly.express as px\n",
    "import plotly.graph_objects as go\n",
    "import pyarrow.parquet as pq\n",
    "import awswrangler as wr\n",
    "import calendar\n",
    "\n",
    "data_URI = 's3://nypdcollisions/collisions.parquet'\n"
   ]
  },
  {
   "cell_type": "code",
   "execution_count": 2,
   "metadata": {},
   "outputs": [
    {
     "data": {
      "text/html": [
       "<div>\n",
       "<style scoped>\n",
       "    .dataframe tbody tr th:only-of-type {\n",
       "        vertical-align: middle;\n",
       "    }\n",
       "\n",
       "    .dataframe tbody tr th {\n",
       "        vertical-align: top;\n",
       "    }\n",
       "\n",
       "    .dataframe thead th {\n",
       "        text-align: right;\n",
       "    }\n",
       "</style>\n",
       "<table border=\"1\" class=\"dataframe\">\n",
       "  <thead>\n",
       "    <tr style=\"text-align: right;\">\n",
       "      <th></th>\n",
       "      <th>crash_date</th>\n",
       "      <th>crash_time</th>\n",
       "      <th>borough</th>\n",
       "      <th>zip_code</th>\n",
       "      <th>latitude</th>\n",
       "      <th>longitude</th>\n",
       "      <th>location</th>\n",
       "      <th>on_street_name</th>\n",
       "      <th>cross_street_name</th>\n",
       "      <th>off_street_name</th>\n",
       "      <th>...</th>\n",
       "      <th>contributing_factor_vehicle_2</th>\n",
       "      <th>contributing_factor_vehicle_3</th>\n",
       "      <th>contributing_factor_vehicle_4</th>\n",
       "      <th>contributing_factor_vehicle_5</th>\n",
       "      <th>collision_id</th>\n",
       "      <th>vehicle_type_code_1</th>\n",
       "      <th>vehicle_type_code_2</th>\n",
       "      <th>vehicle_type_code_3</th>\n",
       "      <th>vehicle_type_code_4</th>\n",
       "      <th>vehicle_type_code_5</th>\n",
       "    </tr>\n",
       "  </thead>\n",
       "  <tbody>\n",
       "    <tr>\n",
       "      <th>0</th>\n",
       "      <td>04/14/2021</td>\n",
       "      <td>5:32</td>\n",
       "      <td></td>\n",
       "      <td></td>\n",
       "      <td>NaN</td>\n",
       "      <td>NaN</td>\n",
       "      <td></td>\n",
       "      <td>BRONX WHITESTONE BRIDGE</td>\n",
       "      <td></td>\n",
       "      <td></td>\n",
       "      <td>...</td>\n",
       "      <td>Unspecified</td>\n",
       "      <td></td>\n",
       "      <td></td>\n",
       "      <td></td>\n",
       "      <td>4407480</td>\n",
       "      <td>Sedan</td>\n",
       "      <td>Sedan</td>\n",
       "      <td></td>\n",
       "      <td></td>\n",
       "      <td></td>\n",
       "    </tr>\n",
       "    <tr>\n",
       "      <th>1</th>\n",
       "      <td>04/13/2021</td>\n",
       "      <td>21:35</td>\n",
       "      <td>BROOKLYN</td>\n",
       "      <td>11217</td>\n",
       "      <td>40.68358</td>\n",
       "      <td>-73.97617</td>\n",
       "      <td>(40.68358, -73.97617)</td>\n",
       "      <td></td>\n",
       "      <td></td>\n",
       "      <td>620       ATLANTIC AVENUE</td>\n",
       "      <td>...</td>\n",
       "      <td></td>\n",
       "      <td></td>\n",
       "      <td></td>\n",
       "      <td></td>\n",
       "      <td>4407147</td>\n",
       "      <td>Sedan</td>\n",
       "      <td></td>\n",
       "      <td></td>\n",
       "      <td></td>\n",
       "      <td></td>\n",
       "    </tr>\n",
       "    <tr>\n",
       "      <th>2</th>\n",
       "      <td>04/15/2021</td>\n",
       "      <td>16:15</td>\n",
       "      <td></td>\n",
       "      <td></td>\n",
       "      <td>NaN</td>\n",
       "      <td>NaN</td>\n",
       "      <td></td>\n",
       "      <td>HUTCHINSON RIVER PARKWAY</td>\n",
       "      <td></td>\n",
       "      <td></td>\n",
       "      <td>...</td>\n",
       "      <td></td>\n",
       "      <td></td>\n",
       "      <td></td>\n",
       "      <td></td>\n",
       "      <td>4407665</td>\n",
       "      <td>Station Wagon/Sport Utility Vehicle</td>\n",
       "      <td></td>\n",
       "      <td></td>\n",
       "      <td></td>\n",
       "      <td></td>\n",
       "    </tr>\n",
       "    <tr>\n",
       "      <th>3</th>\n",
       "      <td>04/13/2021</td>\n",
       "      <td>16:00</td>\n",
       "      <td>BROOKLYN</td>\n",
       "      <td>11222</td>\n",
       "      <td>NaN</td>\n",
       "      <td>NaN</td>\n",
       "      <td></td>\n",
       "      <td>VANDERVORT AVENUE</td>\n",
       "      <td>ANTHONY STREET</td>\n",
       "      <td></td>\n",
       "      <td>...</td>\n",
       "      <td>Unspecified</td>\n",
       "      <td></td>\n",
       "      <td></td>\n",
       "      <td></td>\n",
       "      <td>4407811</td>\n",
       "      <td>Sedan</td>\n",
       "      <td></td>\n",
       "      <td></td>\n",
       "      <td></td>\n",
       "      <td></td>\n",
       "    </tr>\n",
       "    <tr>\n",
       "      <th>4</th>\n",
       "      <td>04/12/2021</td>\n",
       "      <td>8:25</td>\n",
       "      <td></td>\n",
       "      <td></td>\n",
       "      <td>0.00000</td>\n",
       "      <td>0.00000</td>\n",
       "      <td>(0.0, 0.0)</td>\n",
       "      <td>EDSON AVENUE</td>\n",
       "      <td></td>\n",
       "      <td></td>\n",
       "      <td>...</td>\n",
       "      <td>Unspecified</td>\n",
       "      <td></td>\n",
       "      <td></td>\n",
       "      <td></td>\n",
       "      <td>4406885</td>\n",
       "      <td>Station Wagon/Sport Utility Vehicle</td>\n",
       "      <td>Sedan</td>\n",
       "      <td></td>\n",
       "      <td></td>\n",
       "      <td></td>\n",
       "    </tr>\n",
       "  </tbody>\n",
       "</table>\n",
       "<p>5 rows × 29 columns</p>\n",
       "</div>"
      ],
      "text/plain": [
       "   crash_date crash_time   borough zip_code  latitude  longitude  \\\n",
       "0  04/14/2021       5:32                          NaN        NaN   \n",
       "1  04/13/2021      21:35  BROOKLYN    11217  40.68358  -73.97617   \n",
       "2  04/15/2021      16:15                          NaN        NaN   \n",
       "3  04/13/2021      16:00  BROOKLYN    11222       NaN        NaN   \n",
       "4  04/12/2021       8:25                      0.00000    0.00000   \n",
       "\n",
       "                location                    on_street_name cross_street_name  \\\n",
       "0                                  BRONX WHITESTONE BRIDGE                     \n",
       "1  (40.68358, -73.97617)                                                       \n",
       "2                                 HUTCHINSON RIVER PARKWAY                     \n",
       "3                                        VANDERVORT AVENUE    ANTHONY STREET   \n",
       "4             (0.0, 0.0)  EDSON AVENUE                                         \n",
       "\n",
       "                            off_street_name  ...  \\\n",
       "0                                            ...   \n",
       "1  620       ATLANTIC AVENUE                 ...   \n",
       "2                                            ...   \n",
       "3                                            ...   \n",
       "4                                            ...   \n",
       "\n",
       "   contributing_factor_vehicle_2  contributing_factor_vehicle_3  \\\n",
       "0                    Unspecified                                  \n",
       "1                                                                 \n",
       "2                                                                 \n",
       "3                    Unspecified                                  \n",
       "4                    Unspecified                                  \n",
       "\n",
       "   contributing_factor_vehicle_4  contributing_factor_vehicle_5  collision_id  \\\n",
       "0                                                                     4407480   \n",
       "1                                                                     4407147   \n",
       "2                                                                     4407665   \n",
       "3                                                                     4407811   \n",
       "4                                                                     4406885   \n",
       "\n",
       "                   vehicle_type_code_1  vehicle_type_code_2  \\\n",
       "0                                Sedan                Sedan   \n",
       "1                                Sedan                        \n",
       "2  Station Wagon/Sport Utility Vehicle                        \n",
       "3                                Sedan                        \n",
       "4  Station Wagon/Sport Utility Vehicle                Sedan   \n",
       "\n",
       "   vehicle_type_code_3 vehicle_type_code_4 vehicle_type_code_5  \n",
       "0                                                               \n",
       "1                                                               \n",
       "2                                                               \n",
       "3                                                               \n",
       "4                                                               \n",
       "\n",
       "[5 rows x 29 columns]"
      ]
     },
     "execution_count": 2,
     "metadata": {},
     "output_type": "execute_result"
    }
   ],
   "source": [
    "# Retrieving the data directly from Amazon S3\n",
    "all_collisions_df = wr.s3.read_parquet(data_URI)\n",
    "# Modifying column names\n",
    "all_collisions_df.columns = all_collisions_df.columns.str.lower()\n",
    "all_collisions_df.columns = all_collisions_df.columns.str.replace(' ', '_')\n",
    "all_collisions_df.head()"
   ]
  },
  {
   "cell_type": "code",
   "execution_count": 11,
   "metadata": {},
   "outputs": [
    {
     "data": {
      "text/html": [
       "<div>\n",
       "<style scoped>\n",
       "    .dataframe tbody tr th:only-of-type {\n",
       "        vertical-align: middle;\n",
       "    }\n",
       "\n",
       "    .dataframe tbody tr th {\n",
       "        vertical-align: top;\n",
       "    }\n",
       "\n",
       "    .dataframe thead th {\n",
       "        text-align: right;\n",
       "    }\n",
       "</style>\n",
       "<table border=\"1\" class=\"dataframe\">\n",
       "  <thead>\n",
       "    <tr style=\"text-align: right;\">\n",
       "      <th></th>\n",
       "      <th>crash_date</th>\n",
       "      <th>crash_time</th>\n",
       "      <th>borough</th>\n",
       "      <th>zip_code</th>\n",
       "      <th>latitude</th>\n",
       "      <th>longitude</th>\n",
       "      <th>location</th>\n",
       "      <th>on_street_name</th>\n",
       "      <th>cross_street_name</th>\n",
       "      <th>off_street_name</th>\n",
       "      <th>...</th>\n",
       "      <th>contributing_factor_vehicle_5</th>\n",
       "      <th>collision_id</th>\n",
       "      <th>vehicle_type_code_1</th>\n",
       "      <th>vehicle_type_code_2</th>\n",
       "      <th>vehicle_type_code_3</th>\n",
       "      <th>vehicle_type_code_4</th>\n",
       "      <th>vehicle_type_code_5</th>\n",
       "      <th>crash_year</th>\n",
       "      <th>crash_month</th>\n",
       "      <th>crash_month_year</th>\n",
       "    </tr>\n",
       "  </thead>\n",
       "  <tbody>\n",
       "    <tr>\n",
       "      <th>0</th>\n",
       "      <td>2021-04-14</td>\n",
       "      <td>5:32</td>\n",
       "      <td></td>\n",
       "      <td></td>\n",
       "      <td>NaN</td>\n",
       "      <td>NaN</td>\n",
       "      <td></td>\n",
       "      <td>BRONX WHITESTONE BRIDGE</td>\n",
       "      <td></td>\n",
       "      <td></td>\n",
       "      <td>...</td>\n",
       "      <td></td>\n",
       "      <td>4407480</td>\n",
       "      <td>Sedan</td>\n",
       "      <td>Sedan</td>\n",
       "      <td></td>\n",
       "      <td></td>\n",
       "      <td></td>\n",
       "      <td>2021</td>\n",
       "      <td>4</td>\n",
       "      <td>2021-04</td>\n",
       "    </tr>\n",
       "    <tr>\n",
       "      <th>1</th>\n",
       "      <td>2021-04-13</td>\n",
       "      <td>21:35</td>\n",
       "      <td>BROOKLYN</td>\n",
       "      <td>11217</td>\n",
       "      <td>40.68358</td>\n",
       "      <td>-73.97617</td>\n",
       "      <td>(40.68358, -73.97617)</td>\n",
       "      <td></td>\n",
       "      <td></td>\n",
       "      <td>620       ATLANTIC AVENUE</td>\n",
       "      <td>...</td>\n",
       "      <td></td>\n",
       "      <td>4407147</td>\n",
       "      <td>Sedan</td>\n",
       "      <td></td>\n",
       "      <td></td>\n",
       "      <td></td>\n",
       "      <td></td>\n",
       "      <td>2021</td>\n",
       "      <td>4</td>\n",
       "      <td>2021-04</td>\n",
       "    </tr>\n",
       "    <tr>\n",
       "      <th>2</th>\n",
       "      <td>2021-04-15</td>\n",
       "      <td>16:15</td>\n",
       "      <td></td>\n",
       "      <td></td>\n",
       "      <td>NaN</td>\n",
       "      <td>NaN</td>\n",
       "      <td></td>\n",
       "      <td>HUTCHINSON RIVER PARKWAY</td>\n",
       "      <td></td>\n",
       "      <td></td>\n",
       "      <td>...</td>\n",
       "      <td></td>\n",
       "      <td>4407665</td>\n",
       "      <td>Station Wagon/Sport Utility Vehicle</td>\n",
       "      <td></td>\n",
       "      <td></td>\n",
       "      <td></td>\n",
       "      <td></td>\n",
       "      <td>2021</td>\n",
       "      <td>4</td>\n",
       "      <td>2021-04</td>\n",
       "    </tr>\n",
       "    <tr>\n",
       "      <th>3</th>\n",
       "      <td>2021-04-13</td>\n",
       "      <td>16:00</td>\n",
       "      <td>BROOKLYN</td>\n",
       "      <td>11222</td>\n",
       "      <td>NaN</td>\n",
       "      <td>NaN</td>\n",
       "      <td></td>\n",
       "      <td>VANDERVORT AVENUE</td>\n",
       "      <td>ANTHONY STREET</td>\n",
       "      <td></td>\n",
       "      <td>...</td>\n",
       "      <td></td>\n",
       "      <td>4407811</td>\n",
       "      <td>Sedan</td>\n",
       "      <td></td>\n",
       "      <td></td>\n",
       "      <td></td>\n",
       "      <td></td>\n",
       "      <td>2021</td>\n",
       "      <td>4</td>\n",
       "      <td>2021-04</td>\n",
       "    </tr>\n",
       "    <tr>\n",
       "      <th>4</th>\n",
       "      <td>2021-04-12</td>\n",
       "      <td>8:25</td>\n",
       "      <td></td>\n",
       "      <td></td>\n",
       "      <td>0.00000</td>\n",
       "      <td>0.00000</td>\n",
       "      <td>(0.0, 0.0)</td>\n",
       "      <td>EDSON AVENUE</td>\n",
       "      <td></td>\n",
       "      <td></td>\n",
       "      <td>...</td>\n",
       "      <td></td>\n",
       "      <td>4406885</td>\n",
       "      <td>Station Wagon/Sport Utility Vehicle</td>\n",
       "      <td>Sedan</td>\n",
       "      <td></td>\n",
       "      <td></td>\n",
       "      <td></td>\n",
       "      <td>2021</td>\n",
       "      <td>4</td>\n",
       "      <td>2021-04</td>\n",
       "    </tr>\n",
       "  </tbody>\n",
       "</table>\n",
       "<p>5 rows × 32 columns</p>\n",
       "</div>"
      ],
      "text/plain": [
       "  crash_date crash_time   borough zip_code  latitude  longitude  \\\n",
       "0 2021-04-14       5:32                          NaN        NaN   \n",
       "1 2021-04-13      21:35  BROOKLYN    11217  40.68358  -73.97617   \n",
       "2 2021-04-15      16:15                          NaN        NaN   \n",
       "3 2021-04-13      16:00  BROOKLYN    11222       NaN        NaN   \n",
       "4 2021-04-12       8:25                      0.00000    0.00000   \n",
       "\n",
       "                location                    on_street_name cross_street_name  \\\n",
       "0                                  BRONX WHITESTONE BRIDGE                     \n",
       "1  (40.68358, -73.97617)                                                       \n",
       "2                                 HUTCHINSON RIVER PARKWAY                     \n",
       "3                                        VANDERVORT AVENUE    ANTHONY STREET   \n",
       "4             (0.0, 0.0)  EDSON AVENUE                                         \n",
       "\n",
       "                            off_street_name  ...  \\\n",
       "0                                            ...   \n",
       "1  620       ATLANTIC AVENUE                 ...   \n",
       "2                                            ...   \n",
       "3                                            ...   \n",
       "4                                            ...   \n",
       "\n",
       "   contributing_factor_vehicle_5  collision_id  \\\n",
       "0                                      4407480   \n",
       "1                                      4407147   \n",
       "2                                      4407665   \n",
       "3                                      4407811   \n",
       "4                                      4406885   \n",
       "\n",
       "                   vehicle_type_code_1  vehicle_type_code_2  \\\n",
       "0                                Sedan                Sedan   \n",
       "1                                Sedan                        \n",
       "2  Station Wagon/Sport Utility Vehicle                        \n",
       "3                                Sedan                        \n",
       "4  Station Wagon/Sport Utility Vehicle                Sedan   \n",
       "\n",
       "   vehicle_type_code_3  vehicle_type_code_4  vehicle_type_code_5  crash_year  \\\n",
       "0                                                                       2021   \n",
       "1                                                                       2021   \n",
       "2                                                                       2021   \n",
       "3                                                                       2021   \n",
       "4                                                                       2021   \n",
       "\n",
       "  crash_month crash_month_year  \n",
       "0           4          2021-04  \n",
       "1           4          2021-04  \n",
       "2           4          2021-04  \n",
       "3           4          2021-04  \n",
       "4           4          2021-04  \n",
       "\n",
       "[5 rows x 32 columns]"
      ]
     },
     "execution_count": 11,
     "metadata": {},
     "output_type": "execute_result"
    }
   ],
   "source": [
    "all_collisions_df['crash_date'] = pd.to_datetime(all_collisions_df['crash_date'])\n",
    "all_collisions_df['crash_year'] = pd.DatetimeIndex(all_collisions_df['crash_date']).year\n",
    "all_collisions_df['crash_month'] = pd.DatetimeIndex(all_collisions_df['crash_date']).month\n",
    "# all_collisions_df['crash_month'] = all_collisions_df['crash_date'].dt.month_name()\n",
    "all_collisions_df['crash_month_year'] = pd.to_datetime(all_collisions_df['crash_date']).dt.to_period('M')\n",
    "historical_df = all_collisions_df[all_collisions_df.crash_year < 2022] # Removing 2022 data\n",
    "historical_df = all_collisions_df[all_collisions_df.crash_year > 2012]\n",
    "historical_df.head()"
   ]
  },
  {
   "cell_type": "code",
   "execution_count": 80,
   "metadata": {},
   "outputs": [
    {
     "data": {
      "text/html": [
       "<div>\n",
       "<style scoped>\n",
       "    .dataframe tbody tr th:only-of-type {\n",
       "        vertical-align: middle;\n",
       "    }\n",
       "\n",
       "    .dataframe tbody tr th {\n",
       "        vertical-align: top;\n",
       "    }\n",
       "\n",
       "    .dataframe thead th {\n",
       "        text-align: right;\n",
       "    }\n",
       "</style>\n",
       "<table border=\"1\" class=\"dataframe\">\n",
       "  <thead>\n",
       "    <tr style=\"text-align: right;\">\n",
       "      <th></th>\n",
       "      <th>unique_values</th>\n",
       "      <th>counts</th>\n",
       "    </tr>\n",
       "  </thead>\n",
       "  <tbody>\n",
       "    <tr>\n",
       "      <th>0</th>\n",
       "      <td>Unspecified</td>\n",
       "      <td>594612</td>\n",
       "    </tr>\n",
       "  </tbody>\n",
       "</table>\n",
       "</div>"
      ],
      "text/plain": [
       "  unique_values  counts\n",
       "0   Unspecified  594612"
      ]
     },
     "execution_count": 80,
     "metadata": {},
     "output_type": "execute_result"
    }
   ],
   "source": [
    "crash_causes = historical_df['contributing_factor_vehicle_1'].value_counts().rename_axis('unique_values').reset_index(name='counts')\n",
    "top_10_crashes_causes = crash_causes[crash_causes.unique_values == 'Unspecified'].head(10)\n",
    "top_10_crashes_causes"
   ]
  },
  {
   "cell_type": "code",
   "execution_count": 79,
   "metadata": {},
   "outputs": [
    {
     "data": {
      "application/vnd.plotly.v1+json": {
       "config": {
        "plotlyServerURL": "https://plot.ly"
       },
       "data": [
        {
         "labels": [
          "Driver Inattention/Distraction",
          "Failure to Yield Right-of-Way",
          "Following Too Closely",
          "Backing Unsafely",
          "Other Vehicular",
          "Passing or Lane Usage Improper",
          "Turning Improperly",
          "Passing Too Closely",
          "Fatigued/Drowsy",
          "Unsafe Lane Changing"
         ],
         "pull": [
          0.2,
          0,
          0,
          0,
          0,
          0,
          0,
          0,
          0,
          0,
          0
         ],
         "type": "pie",
         "values": [
          350307,
          103905,
          96842,
          67715,
          55740,
          48034,
          43959,
          43853,
          42153,
          36283
         ]
        }
       ],
       "layout": {
        "template": {
         "data": {
          "bar": [
           {
            "error_x": {
             "color": "#2a3f5f"
            },
            "error_y": {
             "color": "#2a3f5f"
            },
            "marker": {
             "line": {
              "color": "#E5ECF6",
              "width": 0.5
             },
             "pattern": {
              "fillmode": "overlay",
              "size": 10,
              "solidity": 0.2
             }
            },
            "type": "bar"
           }
          ],
          "barpolar": [
           {
            "marker": {
             "line": {
              "color": "#E5ECF6",
              "width": 0.5
             },
             "pattern": {
              "fillmode": "overlay",
              "size": 10,
              "solidity": 0.2
             }
            },
            "type": "barpolar"
           }
          ],
          "carpet": [
           {
            "aaxis": {
             "endlinecolor": "#2a3f5f",
             "gridcolor": "white",
             "linecolor": "white",
             "minorgridcolor": "white",
             "startlinecolor": "#2a3f5f"
            },
            "baxis": {
             "endlinecolor": "#2a3f5f",
             "gridcolor": "white",
             "linecolor": "white",
             "minorgridcolor": "white",
             "startlinecolor": "#2a3f5f"
            },
            "type": "carpet"
           }
          ],
          "choropleth": [
           {
            "colorbar": {
             "outlinewidth": 0,
             "ticks": ""
            },
            "type": "choropleth"
           }
          ],
          "contour": [
           {
            "colorbar": {
             "outlinewidth": 0,
             "ticks": ""
            },
            "colorscale": [
             [
              0,
              "#0d0887"
             ],
             [
              0.1111111111111111,
              "#46039f"
             ],
             [
              0.2222222222222222,
              "#7201a8"
             ],
             [
              0.3333333333333333,
              "#9c179e"
             ],
             [
              0.4444444444444444,
              "#bd3786"
             ],
             [
              0.5555555555555556,
              "#d8576b"
             ],
             [
              0.6666666666666666,
              "#ed7953"
             ],
             [
              0.7777777777777778,
              "#fb9f3a"
             ],
             [
              0.8888888888888888,
              "#fdca26"
             ],
             [
              1,
              "#f0f921"
             ]
            ],
            "type": "contour"
           }
          ],
          "contourcarpet": [
           {
            "colorbar": {
             "outlinewidth": 0,
             "ticks": ""
            },
            "type": "contourcarpet"
           }
          ],
          "heatmap": [
           {
            "colorbar": {
             "outlinewidth": 0,
             "ticks": ""
            },
            "colorscale": [
             [
              0,
              "#0d0887"
             ],
             [
              0.1111111111111111,
              "#46039f"
             ],
             [
              0.2222222222222222,
              "#7201a8"
             ],
             [
              0.3333333333333333,
              "#9c179e"
             ],
             [
              0.4444444444444444,
              "#bd3786"
             ],
             [
              0.5555555555555556,
              "#d8576b"
             ],
             [
              0.6666666666666666,
              "#ed7953"
             ],
             [
              0.7777777777777778,
              "#fb9f3a"
             ],
             [
              0.8888888888888888,
              "#fdca26"
             ],
             [
              1,
              "#f0f921"
             ]
            ],
            "type": "heatmap"
           }
          ],
          "heatmapgl": [
           {
            "colorbar": {
             "outlinewidth": 0,
             "ticks": ""
            },
            "colorscale": [
             [
              0,
              "#0d0887"
             ],
             [
              0.1111111111111111,
              "#46039f"
             ],
             [
              0.2222222222222222,
              "#7201a8"
             ],
             [
              0.3333333333333333,
              "#9c179e"
             ],
             [
              0.4444444444444444,
              "#bd3786"
             ],
             [
              0.5555555555555556,
              "#d8576b"
             ],
             [
              0.6666666666666666,
              "#ed7953"
             ],
             [
              0.7777777777777778,
              "#fb9f3a"
             ],
             [
              0.8888888888888888,
              "#fdca26"
             ],
             [
              1,
              "#f0f921"
             ]
            ],
            "type": "heatmapgl"
           }
          ],
          "histogram": [
           {
            "marker": {
             "pattern": {
              "fillmode": "overlay",
              "size": 10,
              "solidity": 0.2
             }
            },
            "type": "histogram"
           }
          ],
          "histogram2d": [
           {
            "colorbar": {
             "outlinewidth": 0,
             "ticks": ""
            },
            "colorscale": [
             [
              0,
              "#0d0887"
             ],
             [
              0.1111111111111111,
              "#46039f"
             ],
             [
              0.2222222222222222,
              "#7201a8"
             ],
             [
              0.3333333333333333,
              "#9c179e"
             ],
             [
              0.4444444444444444,
              "#bd3786"
             ],
             [
              0.5555555555555556,
              "#d8576b"
             ],
             [
              0.6666666666666666,
              "#ed7953"
             ],
             [
              0.7777777777777778,
              "#fb9f3a"
             ],
             [
              0.8888888888888888,
              "#fdca26"
             ],
             [
              1,
              "#f0f921"
             ]
            ],
            "type": "histogram2d"
           }
          ],
          "histogram2dcontour": [
           {
            "colorbar": {
             "outlinewidth": 0,
             "ticks": ""
            },
            "colorscale": [
             [
              0,
              "#0d0887"
             ],
             [
              0.1111111111111111,
              "#46039f"
             ],
             [
              0.2222222222222222,
              "#7201a8"
             ],
             [
              0.3333333333333333,
              "#9c179e"
             ],
             [
              0.4444444444444444,
              "#bd3786"
             ],
             [
              0.5555555555555556,
              "#d8576b"
             ],
             [
              0.6666666666666666,
              "#ed7953"
             ],
             [
              0.7777777777777778,
              "#fb9f3a"
             ],
             [
              0.8888888888888888,
              "#fdca26"
             ],
             [
              1,
              "#f0f921"
             ]
            ],
            "type": "histogram2dcontour"
           }
          ],
          "mesh3d": [
           {
            "colorbar": {
             "outlinewidth": 0,
             "ticks": ""
            },
            "type": "mesh3d"
           }
          ],
          "parcoords": [
           {
            "line": {
             "colorbar": {
              "outlinewidth": 0,
              "ticks": ""
             }
            },
            "type": "parcoords"
           }
          ],
          "pie": [
           {
            "automargin": true,
            "type": "pie"
           }
          ],
          "scatter": [
           {
            "marker": {
             "colorbar": {
              "outlinewidth": 0,
              "ticks": ""
             }
            },
            "type": "scatter"
           }
          ],
          "scatter3d": [
           {
            "line": {
             "colorbar": {
              "outlinewidth": 0,
              "ticks": ""
             }
            },
            "marker": {
             "colorbar": {
              "outlinewidth": 0,
              "ticks": ""
             }
            },
            "type": "scatter3d"
           }
          ],
          "scattercarpet": [
           {
            "marker": {
             "colorbar": {
              "outlinewidth": 0,
              "ticks": ""
             }
            },
            "type": "scattercarpet"
           }
          ],
          "scattergeo": [
           {
            "marker": {
             "colorbar": {
              "outlinewidth": 0,
              "ticks": ""
             }
            },
            "type": "scattergeo"
           }
          ],
          "scattergl": [
           {
            "marker": {
             "colorbar": {
              "outlinewidth": 0,
              "ticks": ""
             }
            },
            "type": "scattergl"
           }
          ],
          "scattermapbox": [
           {
            "marker": {
             "colorbar": {
              "outlinewidth": 0,
              "ticks": ""
             }
            },
            "type": "scattermapbox"
           }
          ],
          "scatterpolar": [
           {
            "marker": {
             "colorbar": {
              "outlinewidth": 0,
              "ticks": ""
             }
            },
            "type": "scatterpolar"
           }
          ],
          "scatterpolargl": [
           {
            "marker": {
             "colorbar": {
              "outlinewidth": 0,
              "ticks": ""
             }
            },
            "type": "scatterpolargl"
           }
          ],
          "scatterternary": [
           {
            "marker": {
             "colorbar": {
              "outlinewidth": 0,
              "ticks": ""
             }
            },
            "type": "scatterternary"
           }
          ],
          "surface": [
           {
            "colorbar": {
             "outlinewidth": 0,
             "ticks": ""
            },
            "colorscale": [
             [
              0,
              "#0d0887"
             ],
             [
              0.1111111111111111,
              "#46039f"
             ],
             [
              0.2222222222222222,
              "#7201a8"
             ],
             [
              0.3333333333333333,
              "#9c179e"
             ],
             [
              0.4444444444444444,
              "#bd3786"
             ],
             [
              0.5555555555555556,
              "#d8576b"
             ],
             [
              0.6666666666666666,
              "#ed7953"
             ],
             [
              0.7777777777777778,
              "#fb9f3a"
             ],
             [
              0.8888888888888888,
              "#fdca26"
             ],
             [
              1,
              "#f0f921"
             ]
            ],
            "type": "surface"
           }
          ],
          "table": [
           {
            "cells": {
             "fill": {
              "color": "#EBF0F8"
             },
             "line": {
              "color": "white"
             }
            },
            "header": {
             "fill": {
              "color": "#C8D4E3"
             },
             "line": {
              "color": "white"
             }
            },
            "type": "table"
           }
          ]
         },
         "layout": {
          "annotationdefaults": {
           "arrowcolor": "#2a3f5f",
           "arrowhead": 0,
           "arrowwidth": 1
          },
          "autotypenumbers": "strict",
          "coloraxis": {
           "colorbar": {
            "outlinewidth": 0,
            "ticks": ""
           }
          },
          "colorscale": {
           "diverging": [
            [
             0,
             "#8e0152"
            ],
            [
             0.1,
             "#c51b7d"
            ],
            [
             0.2,
             "#de77ae"
            ],
            [
             0.3,
             "#f1b6da"
            ],
            [
             0.4,
             "#fde0ef"
            ],
            [
             0.5,
             "#f7f7f7"
            ],
            [
             0.6,
             "#e6f5d0"
            ],
            [
             0.7,
             "#b8e186"
            ],
            [
             0.8,
             "#7fbc41"
            ],
            [
             0.9,
             "#4d9221"
            ],
            [
             1,
             "#276419"
            ]
           ],
           "sequential": [
            [
             0,
             "#0d0887"
            ],
            [
             0.1111111111111111,
             "#46039f"
            ],
            [
             0.2222222222222222,
             "#7201a8"
            ],
            [
             0.3333333333333333,
             "#9c179e"
            ],
            [
             0.4444444444444444,
             "#bd3786"
            ],
            [
             0.5555555555555556,
             "#d8576b"
            ],
            [
             0.6666666666666666,
             "#ed7953"
            ],
            [
             0.7777777777777778,
             "#fb9f3a"
            ],
            [
             0.8888888888888888,
             "#fdca26"
            ],
            [
             1,
             "#f0f921"
            ]
           ],
           "sequentialminus": [
            [
             0,
             "#0d0887"
            ],
            [
             0.1111111111111111,
             "#46039f"
            ],
            [
             0.2222222222222222,
             "#7201a8"
            ],
            [
             0.3333333333333333,
             "#9c179e"
            ],
            [
             0.4444444444444444,
             "#bd3786"
            ],
            [
             0.5555555555555556,
             "#d8576b"
            ],
            [
             0.6666666666666666,
             "#ed7953"
            ],
            [
             0.7777777777777778,
             "#fb9f3a"
            ],
            [
             0.8888888888888888,
             "#fdca26"
            ],
            [
             1,
             "#f0f921"
            ]
           ]
          },
          "colorway": [
           "#636efa",
           "#EF553B",
           "#00cc96",
           "#ab63fa",
           "#FFA15A",
           "#19d3f3",
           "#FF6692",
           "#B6E880",
           "#FF97FF",
           "#FECB52"
          ],
          "font": {
           "color": "#2a3f5f"
          },
          "geo": {
           "bgcolor": "white",
           "lakecolor": "white",
           "landcolor": "#E5ECF6",
           "showlakes": true,
           "showland": true,
           "subunitcolor": "white"
          },
          "hoverlabel": {
           "align": "left"
          },
          "hovermode": "closest",
          "mapbox": {
           "style": "light"
          },
          "paper_bgcolor": "white",
          "plot_bgcolor": "#E5ECF6",
          "polar": {
           "angularaxis": {
            "gridcolor": "white",
            "linecolor": "white",
            "ticks": ""
           },
           "bgcolor": "#E5ECF6",
           "radialaxis": {
            "gridcolor": "white",
            "linecolor": "white",
            "ticks": ""
           }
          },
          "scene": {
           "xaxis": {
            "backgroundcolor": "#E5ECF6",
            "gridcolor": "white",
            "gridwidth": 2,
            "linecolor": "white",
            "showbackground": true,
            "ticks": "",
            "zerolinecolor": "white"
           },
           "yaxis": {
            "backgroundcolor": "#E5ECF6",
            "gridcolor": "white",
            "gridwidth": 2,
            "linecolor": "white",
            "showbackground": true,
            "ticks": "",
            "zerolinecolor": "white"
           },
           "zaxis": {
            "backgroundcolor": "#E5ECF6",
            "gridcolor": "white",
            "gridwidth": 2,
            "linecolor": "white",
            "showbackground": true,
            "ticks": "",
            "zerolinecolor": "white"
           }
          },
          "shapedefaults": {
           "line": {
            "color": "#2a3f5f"
           }
          },
          "ternary": {
           "aaxis": {
            "gridcolor": "white",
            "linecolor": "white",
            "ticks": ""
           },
           "baxis": {
            "gridcolor": "white",
            "linecolor": "white",
            "ticks": ""
           },
           "bgcolor": "#E5ECF6",
           "caxis": {
            "gridcolor": "white",
            "linecolor": "white",
            "ticks": ""
           }
          },
          "title": {
           "x": 0.05
          },
          "xaxis": {
           "automargin": true,
           "gridcolor": "white",
           "linecolor": "white",
           "ticks": "",
           "title": {
            "standoff": 15
           },
           "zerolinecolor": "white",
           "zerolinewidth": 2
          },
          "yaxis": {
           "automargin": true,
           "gridcolor": "white",
           "linecolor": "white",
           "ticks": "",
           "title": {
            "standoff": 15
           },
           "zerolinecolor": "white",
           "zerolinewidth": 2
          }
         }
        }
       }
      }
     },
     "metadata": {},
     "output_type": "display_data"
    }
   ],
   "source": [
    "# fig = px.pie(top_10_crashes_causes, values='counts', names='unique_values', title='Top 10 Collision Causes')\n",
    "# fig.show()\n",
    "\n",
    "labels = top_10_crashes_causes.unique_values\n",
    "values = top_10_crashes_causes.counts\n",
    "\n",
    "# pull is given as a fraction of the pie radius\n",
    "fig = go.Figure(data=[go.Pie(labels=labels, values=values, pull=[0.2, 0, 0, 0,0,0,0,0,0,0,0])])\n",
    "fig.show()"
   ]
  },
  {
   "cell_type": "code",
   "execution_count": 56,
   "metadata": {},
   "outputs": [],
   "source": [
    "text = historical_df[historical_df['contributing_factor_vehicle_1'] != 'Unspecified'][['contributing_factor_vehicle_1']]"
   ]
  },
  {
   "cell_type": "code",
   "execution_count": 57,
   "metadata": {},
   "outputs": [],
   "source": [
    "\n",
    "crash_causes = pd.DataFrame(' '.join(text['contributing_factor_vehicle_1'].tolist()), columns=['Keyword'], index=[0])\n",
    "crash_causes_string = crash_causes.Keyword.values"
   ]
  },
  {
   "cell_type": "code",
   "execution_count": 63,
   "metadata": {},
   "outputs": [],
   "source": [
    "from wordcloud import WordCloud, STOPWORDS\n",
    "from plotly.offline import iplot, init_notebook_mode\n",
    "import plotly.graph_objs as go\n",
    "\n",
    "def plotly_wordcloud(text):\n",
    "    wc = WordCloud(stopwords = set(STOPWORDS),\n",
    "                   max_words = 150,\n",
    "                   max_font_size = 100)\n",
    "    wc.generate(text)\n",
    "    \n",
    "    word_list=[]\n",
    "    freq_list=[]\n",
    "    fontsize_list=[]\n",
    "    position_list=[]\n",
    "    orientation_list=[]\n",
    "    color_list=[]\n",
    "\n",
    "    for (word, freq), fontsize, position, orientation, color in wc.layout_:\n",
    "        word_list.append(word)\n",
    "        freq_list.append(freq)\n",
    "        fontsize_list.append(fontsize)\n",
    "        position_list.append(position)\n",
    "        orientation_list.append(orientation)\n",
    "        color_list.append(color)\n",
    "        \n",
    "    # get the positions\n",
    "    x=[]\n",
    "    y=[]\n",
    "    for i in position_list:\n",
    "        x.append(i[0])\n",
    "        y.append(i[1])\n",
    "            \n",
    "    # get the relative occurence frequencies\n",
    "    new_freq_list = []\n",
    "    for i in freq_list:\n",
    "        new_freq_list.append(i*100)\n",
    "    new_freq_list\n",
    "    \n",
    "    trace = go.Scatter(x=x, \n",
    "                       y=y, \n",
    "                       textfont = dict(size=new_freq_list,\n",
    "                                       color=color_list),\n",
    "                       hoverinfo='text',\n",
    "                       hovertext=['{0}{1}'.format(w, f) for w, f in zip(word_list, freq_list)],\n",
    "                       mode='text',  \n",
    "                       text=word_list\n",
    "                      )\n",
    "    \n",
    "    layout = go.Layout({'xaxis': {'showgrid': False, 'showticklabels': False, 'zeroline': False},\n",
    "                        'yaxis': {'showgrid': False, 'showticklabels': False, 'zeroline': False}})\n",
    "    \n",
    "    fig = go.Figure(data=[trace], layout=layout)\n",
    "    \n",
    "    return fig"
   ]
  },
  {
   "cell_type": "code",
   "execution_count": 64,
   "metadata": {},
   "outputs": [
    {
     "data": {
      "application/vnd.plotly.v1+json": {
       "config": {
        "linkText": "Export to plot.ly",
        "plotlyServerURL": "https://plot.ly",
        "showLink": false
       },
       "data": [
        {
         "hoverinfo": "text",
         "hovertext": [
          "Driver Inattention1.0",
          "Inattention Distraction1.0",
          "Distraction Driver0.3458452157678836",
          "Yield Right0.29661125812501604",
          "Backing Unsafely0.19330187521231376",
          "Lane Usage0.13711972641140485",
          "Usage Improper0.13711972641140485",
          "Closely Driver0.1357751914749063",
          "Turning Improperly0.125487072767601",
          "Fatigued Drowsy0.12033159485822435",
          "Unsafe Lane0.1035748643332848",
          "Lane Changing0.1035748643332848",
          "Way Driver0.09704345045916868",
          "Distraction Failure0.0968122247057581",
          "Distraction Following0.08974413871261494",
          "Traffic Control0.08596174212904681",
          "Distraction Passing0.08501971128181852",
          "Control Disregarded0.08404627940634929",
          "Driver Inexperience0.07664990993614172",
          "Unsafely Driver0.06265076061854316",
          "Distraction Backing0.06206555963768923",
          "Unsafe Speed0.05967622685244657",
          "Uninvolved Vehicle0.05303348206002164",
          "Distraction Unsafe0.05302777278215965",
          "Alcohol Involvement0.05154336053804234",
          "Lost Consciousness0.05107805439229019",
          "Vehicular Driver0.05088393894498255",
          "Pavement Slippery0.04961933389855184",
          "Improper Driver0.04710439700034541",
          "Closely Following0.04704444958279452",
          "Closely Passing0.04411273540066285",
          "Improperly Driver0.04024184501023388",
          "Distraction Turning0.039354052302694495",
          "Prescription Medication0.03871746782108265",
          "Closely Failure0.0367106566525933",
          "Distraction Fatigued0.036253914423634126",
          "Drowsy Driver0.03484657743065368",
          "Changing Driver0.034780920735240806",
          "View Obstructed0.03260568586982276",
          "Obstructed Limited0.03260568586982276",
          "Oversized Vehicle0.03172360244014536",
          "Outside Car0.03134393546232305",
          "Car Distraction0.03134393546232305",
          "Vehicle Driver0.029128735651871074",
          "Way Failure0.027675724435994715",
          "Closely Unsafe0.0274073883764812",
          "Distraction Traffic0.02740167909861921",
          "Disregarded Driver0.02733602240320633",
          "Inexperience Driver0.024752574170656023",
          "Way Following0.024738300976001052",
          "Closely Backing0.02342802170667443",
          "Way Passing0.023265307287607728",
          "Physical Disability0.023102592868541022",
          "Aggressive Driving0.02169525587556058",
          "Driving Road0.02169525587556058",
          "Road Rage0.02169525587556058",
          "Pedestrian Bicyclist0.02123280436873942",
          "Pedestrian Error0.02123280436873942",
          "Error Confusion0.02123280436873942",
          "Speed Driver0.0206932776107814",
          "Passenger Distraction0.019931089016205786",
          "Unsafely Failure0.01752748303630815",
          "Way Backing0.017210618114967727",
          "Closely0.016933718138661232",
          "Involvement Driver0.016928008860799242",
          "Distraction Reaction0.016882334637903326",
          "Distraction Pavement0.016756730524939555",
          "Brakes Defective0.016502667660081016",
          "Unsafely Following0.01632853468529033",
          "Distraction Alcohol0.016028797597535876",
          "Distraction Lost0.01571193267619545",
          "Improper Following0.015632002786127596",
          "Unsafely Passing0.015626293508265606",
          "Slippery Driver0.015412195588440996",
          "Way0.015218080141133348",
          "Improper Passing0.015089621389238582",
          "Consciousness Driver0.014721372967140251",
          "Drowsy Fatigued0.014698535855692293",
          "Vehicular Failure0.014641443077072396",
          "Way Unsafe0.014261776099250086",
          "Fell Asleep0.013011444247474357",
          "Closely Turning0.012594666963549115",
          "Improper Failure0.012420533988758432",
          "Changing Following0.012403406155172462",
          "Distraction Prescription0.01183818764683549",
          "Improperly Failure0.011729711367457688",
          "Drowsy Failure0.011638362921665852",
          "Unsafely Backing0.01131007944460145",
          "Changing Passing0.01124442274918857",
          "Way Turning0.01123300419346459",
          "Way Fatigued0.0112272949156026",
          "Medication Driver0.010936121744641128",
          "Limited Driver0.010876174327090237",
          "Vehicular0.01055074548895683",
          "Vehicular Following0.010445123848510022",
          "Distraction View0.010419432098131069"
         ],
         "mode": "text",
         "text": [
          "Driver Inattention",
          "Inattention Distraction",
          "Distraction Driver",
          "Yield Right",
          "Backing Unsafely",
          "Lane Usage",
          "Usage Improper",
          "Closely Driver",
          "Turning Improperly",
          "Fatigued Drowsy",
          "Unsafe Lane",
          "Lane Changing",
          "Way Driver",
          "Distraction Failure",
          "Distraction Following",
          "Traffic Control",
          "Distraction Passing",
          "Control Disregarded",
          "Driver Inexperience",
          "Unsafely Driver",
          "Distraction Backing",
          "Unsafe Speed",
          "Uninvolved Vehicle",
          "Distraction Unsafe",
          "Alcohol Involvement",
          "Lost Consciousness",
          "Vehicular Driver",
          "Pavement Slippery",
          "Improper Driver",
          "Closely Following",
          "Closely Passing",
          "Improperly Driver",
          "Distraction Turning",
          "Prescription Medication",
          "Closely Failure",
          "Distraction Fatigued",
          "Drowsy Driver",
          "Changing Driver",
          "View Obstructed",
          "Obstructed Limited",
          "Oversized Vehicle",
          "Outside Car",
          "Car Distraction",
          "Vehicle Driver",
          "Way Failure",
          "Closely Unsafe",
          "Distraction Traffic",
          "Disregarded Driver",
          "Inexperience Driver",
          "Way Following",
          "Closely Backing",
          "Way Passing",
          "Physical Disability",
          "Aggressive Driving",
          "Driving Road",
          "Road Rage",
          "Pedestrian Bicyclist",
          "Pedestrian Error",
          "Error Confusion",
          "Speed Driver",
          "Passenger Distraction",
          "Unsafely Failure",
          "Way Backing",
          "Closely",
          "Involvement Driver",
          "Distraction Reaction",
          "Distraction Pavement",
          "Brakes Defective",
          "Unsafely Following",
          "Distraction Alcohol",
          "Distraction Lost",
          "Improper Following",
          "Unsafely Passing",
          "Slippery Driver",
          "Way",
          "Improper Passing",
          "Consciousness Driver",
          "Drowsy Fatigued",
          "Vehicular Failure",
          "Way Unsafe",
          "Fell Asleep",
          "Closely Turning",
          "Improper Failure",
          "Changing Following",
          "Distraction Prescription",
          "Improperly Failure",
          "Drowsy Failure",
          "Unsafely Backing",
          "Changing Passing",
          "Way Turning",
          "Way Fatigued",
          "Medication Driver",
          "Limited Driver",
          "Vehicular",
          "Vehicular Following",
          "Distraction View"
         ],
         "textfont": {
          "color": [
           "rgb(56, 185, 119)",
           "rgb(47, 107, 142)",
           "rgb(71, 17, 100)",
           "rgb(34, 168, 132)",
           "rgb(53, 94, 141)",
           "rgb(64, 69, 136)",
           "rgb(54, 93, 141)",
           "rgb(229, 228, 25)",
           "rgb(127, 211, 78)",
           "rgb(70, 51, 127)",
           "rgb(66, 63, 133)",
           "rgb(32, 146, 140)",
           "rgb(88, 199, 101)",
           "rgb(47, 107, 142)",
           "rgb(149, 216, 64)",
           "rgb(36, 134, 142)",
           "rgb(53, 94, 141)",
           "rgb(40, 124, 142)",
           "rgb(189, 223, 38)",
           "rgb(45, 113, 142)",
           "rgb(56, 89, 140)",
           "rgb(39, 126, 142)",
           "rgb(147, 215, 65)",
           "rgb(38, 130, 142)",
           "rgb(33, 166, 133)",
           "rgb(36, 135, 142)",
           "rgb(40, 125, 142)",
           "rgb(82, 197, 105)",
           "rgb(241, 229, 29)",
           "rgb(34, 141, 141)",
           "rgb(38, 173, 129)",
           "rgb(229, 228, 25)",
           "rgb(197, 224, 33)",
           "rgb(66, 64, 134)",
           "rgb(142, 214, 69)",
           "rgb(36, 134, 142)",
           "rgb(184, 222, 41)",
           "rgb(176, 221, 47)",
           "rgb(44, 113, 142)",
           "rgb(119, 209, 83)",
           "rgb(92, 200, 99)",
           "rgb(31, 162, 135)",
           "rgb(157, 217, 59)",
           "rgb(55, 184, 120)",
           "rgb(39, 126, 142)",
           "rgb(33, 166, 133)",
           "rgb(160, 218, 57)",
           "rgb(65, 68, 135)",
           "rgb(229, 228, 25)",
           "rgb(152, 216, 62)",
           "rgb(236, 229, 27)",
           "rgb(178, 221, 45)",
           "rgb(108, 205, 90)",
           "rgb(53, 95, 141)",
           "rgb(63, 72, 137)",
           "rgb(33, 144, 141)",
           "rgb(30, 156, 137)",
           "rgb(176, 221, 47)",
           "rgb(241, 229, 29)",
           "rgb(84, 197, 104)",
           "rgb(76, 194, 108)",
           "rgb(49, 104, 142)",
           "rgb(38, 130, 142)",
           "rgb(38, 173, 129)",
           "rgb(197, 224, 33)",
           "rgb(115, 208, 86)",
           "rgb(127, 211, 78)",
           "rgb(70, 10, 93)",
           "rgb(63, 71, 136)",
           "rgb(244, 230, 30)",
           "rgb(32, 146, 140)",
           "rgb(37, 171, 130)",
           "rgb(69, 4, 87)",
           "rgb(31, 153, 138)",
           "rgb(122, 209, 81)",
           "rgb(57, 85, 140)",
           "rgb(186, 222, 40)",
           "rgb(31, 160, 136)",
           "rgb(92, 200, 99)",
           "rgb(132, 212, 75)",
           "rgb(34, 167, 133)",
           "rgb(42, 118, 142)",
           "rgb(149, 216, 64)",
           "rgb(66, 64, 134)",
           "rgb(41, 175, 127)",
           "rgb(170, 220, 50)",
           "rgb(149, 216, 64)",
           "rgb(72, 23, 105)",
           "rgb(31, 152, 139)",
           "rgb(37, 132, 142)",
           "rgb(72, 33, 115)",
           "rgb(218, 227, 25)",
           "rgb(54, 93, 141)",
           "rgb(35, 137, 142)",
           "rgb(55, 91, 141)",
           "rgb(60, 80, 139)"
          ],
          "size": [
           100,
           100,
           34.584521576788354,
           29.661125812501606,
           19.330187521231377,
           13.711972641140486,
           13.711972641140486,
           13.57751914749063,
           12.5487072767601,
           12.033159485822436,
           10.35748643332848,
           10.35748643332848,
           9.704345045916869,
           9.68122247057581,
           8.974413871261493,
           8.59617421290468,
           8.501971128181852,
           8.40462794063493,
           7.664990993614172,
           6.265076061854316,
           6.206555963768922,
           5.967622685244657,
           5.303348206002164,
           5.302777278215965,
           5.154336053804235,
           5.107805439229019,
           5.088393894498255,
           4.961933389855184,
           4.7104397000345415,
           4.704444958279453,
           4.411273540066285,
           4.024184501023388,
           3.9354052302694496,
           3.871746782108265,
           3.67106566525933,
           3.6253914423634126,
           3.4846577430653682,
           3.4780920735240803,
           3.260568586982276,
           3.260568586982276,
           3.172360244014536,
           3.134393546232305,
           3.134393546232305,
           2.912873565187107,
           2.7675724435994713,
           2.74073883764812,
           2.7401679098619214,
           2.733602240320633,
           2.4752574170656025,
           2.4738300976001053,
           2.342802170667443,
           2.3265307287607726,
           2.310259286854102,
           2.1695255875560577,
           2.1695255875560577,
           2.1695255875560577,
           2.1232804368739417,
           2.1232804368739417,
           2.1232804368739417,
           2.06932776107814,
           1.9931089016205785,
           1.7527483036308151,
           1.7210618114967726,
           1.6933718138661231,
           1.6928008860799242,
           1.6882334637903327,
           1.6756730524939554,
           1.6502667660081016,
           1.632853468529033,
           1.6028797597535875,
           1.5711932676195453,
           1.5632002786127597,
           1.5626293508265605,
           1.5412195588440996,
           1.5218080141133348,
           1.508962138923858,
           1.4721372967140252,
           1.4698535855692294,
           1.4641443077072396,
           1.4261776099250085,
           1.3011444247474357,
           1.2594666963549115,
           1.242053398875843,
           1.2403406155172463,
           1.183818764683549,
           1.1729711367457687,
           1.1638362921665852,
           1.131007944460145,
           1.124442274918857,
           1.1233004193464589,
           1.12272949156026,
           1.0936121744641127,
           1.0876174327090238,
           1.055074548895683,
           1.044512384851002,
           1.041943209813107
          ]
         },
         "type": "scatter",
         "x": [
          68,
          106,
          169,
          139,
          34,
          147,
          4,
          31,
          16,
          129,
          17,
          183,
          49,
          2,
          52,
          168,
          184,
          154,
          53,
          3,
          186,
          145,
          128,
          96,
          96,
          16,
          62,
          129,
          156,
          128,
          24,
          96,
          60,
          159,
          40,
          38,
          152,
          103,
          192,
          29,
          45,
          58,
          137,
          161,
          61,
          10,
          48,
          96,
          20,
          175,
          139,
          143,
          67,
          159,
          66,
          98,
          161,
          147,
          2,
          128,
          69,
          44,
          65,
          187,
          27,
          9,
          63,
          139,
          192,
          12,
          146,
          103,
          105,
          68,
          108,
          142,
          163,
          63,
          192,
          154,
          53,
          166,
          105,
          168,
          33,
          177,
          192,
          96,
          104,
          178,
          11,
          166,
          60,
          105,
          64,
          192
         ],
         "y": [
          2,
          4,
          65,
          68,
          54,
          265,
          238,
          278,
          84,
          256,
          293,
          274,
          225,
          102,
          69,
          284,
          40,
          23,
          301,
          8,
          175,
          196,
          120,
          54,
          266,
          3,
          63,
          9,
          194,
          27,
          15,
          158,
          243,
          257,
          8,
          216,
          347,
          275,
          77,
          216,
          328,
          11,
          195,
          144,
          139,
          347,
          2,
          344,
          234,
          18,
          21,
          364,
          257,
          341,
          355,
          11,
          20,
          1,
          352,
          210,
          86,
          274,
          152,
          378,
          80,
          391,
          158,
          313,
          271,
          169,
          36,
          358,
          92,
          194,
          190,
          268,
          86,
          9,
          36,
          168,
          44,
          244,
          155,
          16,
          4,
          355,
          135,
          227,
          19,
          280,
          51,
          169,
          321,
          243,
          145,
          365
         ]
        }
       ],
       "layout": {
        "template": {
         "data": {
          "bar": [
           {
            "error_x": {
             "color": "#2a3f5f"
            },
            "error_y": {
             "color": "#2a3f5f"
            },
            "marker": {
             "line": {
              "color": "#E5ECF6",
              "width": 0.5
             },
             "pattern": {
              "fillmode": "overlay",
              "size": 10,
              "solidity": 0.2
             }
            },
            "type": "bar"
           }
          ],
          "barpolar": [
           {
            "marker": {
             "line": {
              "color": "#E5ECF6",
              "width": 0.5
             },
             "pattern": {
              "fillmode": "overlay",
              "size": 10,
              "solidity": 0.2
             }
            },
            "type": "barpolar"
           }
          ],
          "carpet": [
           {
            "aaxis": {
             "endlinecolor": "#2a3f5f",
             "gridcolor": "white",
             "linecolor": "white",
             "minorgridcolor": "white",
             "startlinecolor": "#2a3f5f"
            },
            "baxis": {
             "endlinecolor": "#2a3f5f",
             "gridcolor": "white",
             "linecolor": "white",
             "minorgridcolor": "white",
             "startlinecolor": "#2a3f5f"
            },
            "type": "carpet"
           }
          ],
          "choropleth": [
           {
            "colorbar": {
             "outlinewidth": 0,
             "ticks": ""
            },
            "type": "choropleth"
           }
          ],
          "contour": [
           {
            "colorbar": {
             "outlinewidth": 0,
             "ticks": ""
            },
            "colorscale": [
             [
              0,
              "#0d0887"
             ],
             [
              0.1111111111111111,
              "#46039f"
             ],
             [
              0.2222222222222222,
              "#7201a8"
             ],
             [
              0.3333333333333333,
              "#9c179e"
             ],
             [
              0.4444444444444444,
              "#bd3786"
             ],
             [
              0.5555555555555556,
              "#d8576b"
             ],
             [
              0.6666666666666666,
              "#ed7953"
             ],
             [
              0.7777777777777778,
              "#fb9f3a"
             ],
             [
              0.8888888888888888,
              "#fdca26"
             ],
             [
              1,
              "#f0f921"
             ]
            ],
            "type": "contour"
           }
          ],
          "contourcarpet": [
           {
            "colorbar": {
             "outlinewidth": 0,
             "ticks": ""
            },
            "type": "contourcarpet"
           }
          ],
          "heatmap": [
           {
            "colorbar": {
             "outlinewidth": 0,
             "ticks": ""
            },
            "colorscale": [
             [
              0,
              "#0d0887"
             ],
             [
              0.1111111111111111,
              "#46039f"
             ],
             [
              0.2222222222222222,
              "#7201a8"
             ],
             [
              0.3333333333333333,
              "#9c179e"
             ],
             [
              0.4444444444444444,
              "#bd3786"
             ],
             [
              0.5555555555555556,
              "#d8576b"
             ],
             [
              0.6666666666666666,
              "#ed7953"
             ],
             [
              0.7777777777777778,
              "#fb9f3a"
             ],
             [
              0.8888888888888888,
              "#fdca26"
             ],
             [
              1,
              "#f0f921"
             ]
            ],
            "type": "heatmap"
           }
          ],
          "heatmapgl": [
           {
            "colorbar": {
             "outlinewidth": 0,
             "ticks": ""
            },
            "colorscale": [
             [
              0,
              "#0d0887"
             ],
             [
              0.1111111111111111,
              "#46039f"
             ],
             [
              0.2222222222222222,
              "#7201a8"
             ],
             [
              0.3333333333333333,
              "#9c179e"
             ],
             [
              0.4444444444444444,
              "#bd3786"
             ],
             [
              0.5555555555555556,
              "#d8576b"
             ],
             [
              0.6666666666666666,
              "#ed7953"
             ],
             [
              0.7777777777777778,
              "#fb9f3a"
             ],
             [
              0.8888888888888888,
              "#fdca26"
             ],
             [
              1,
              "#f0f921"
             ]
            ],
            "type": "heatmapgl"
           }
          ],
          "histogram": [
           {
            "marker": {
             "pattern": {
              "fillmode": "overlay",
              "size": 10,
              "solidity": 0.2
             }
            },
            "type": "histogram"
           }
          ],
          "histogram2d": [
           {
            "colorbar": {
             "outlinewidth": 0,
             "ticks": ""
            },
            "colorscale": [
             [
              0,
              "#0d0887"
             ],
             [
              0.1111111111111111,
              "#46039f"
             ],
             [
              0.2222222222222222,
              "#7201a8"
             ],
             [
              0.3333333333333333,
              "#9c179e"
             ],
             [
              0.4444444444444444,
              "#bd3786"
             ],
             [
              0.5555555555555556,
              "#d8576b"
             ],
             [
              0.6666666666666666,
              "#ed7953"
             ],
             [
              0.7777777777777778,
              "#fb9f3a"
             ],
             [
              0.8888888888888888,
              "#fdca26"
             ],
             [
              1,
              "#f0f921"
             ]
            ],
            "type": "histogram2d"
           }
          ],
          "histogram2dcontour": [
           {
            "colorbar": {
             "outlinewidth": 0,
             "ticks": ""
            },
            "colorscale": [
             [
              0,
              "#0d0887"
             ],
             [
              0.1111111111111111,
              "#46039f"
             ],
             [
              0.2222222222222222,
              "#7201a8"
             ],
             [
              0.3333333333333333,
              "#9c179e"
             ],
             [
              0.4444444444444444,
              "#bd3786"
             ],
             [
              0.5555555555555556,
              "#d8576b"
             ],
             [
              0.6666666666666666,
              "#ed7953"
             ],
             [
              0.7777777777777778,
              "#fb9f3a"
             ],
             [
              0.8888888888888888,
              "#fdca26"
             ],
             [
              1,
              "#f0f921"
             ]
            ],
            "type": "histogram2dcontour"
           }
          ],
          "mesh3d": [
           {
            "colorbar": {
             "outlinewidth": 0,
             "ticks": ""
            },
            "type": "mesh3d"
           }
          ],
          "parcoords": [
           {
            "line": {
             "colorbar": {
              "outlinewidth": 0,
              "ticks": ""
             }
            },
            "type": "parcoords"
           }
          ],
          "pie": [
           {
            "automargin": true,
            "type": "pie"
           }
          ],
          "scatter": [
           {
            "marker": {
             "colorbar": {
              "outlinewidth": 0,
              "ticks": ""
             }
            },
            "type": "scatter"
           }
          ],
          "scatter3d": [
           {
            "line": {
             "colorbar": {
              "outlinewidth": 0,
              "ticks": ""
             }
            },
            "marker": {
             "colorbar": {
              "outlinewidth": 0,
              "ticks": ""
             }
            },
            "type": "scatter3d"
           }
          ],
          "scattercarpet": [
           {
            "marker": {
             "colorbar": {
              "outlinewidth": 0,
              "ticks": ""
             }
            },
            "type": "scattercarpet"
           }
          ],
          "scattergeo": [
           {
            "marker": {
             "colorbar": {
              "outlinewidth": 0,
              "ticks": ""
             }
            },
            "type": "scattergeo"
           }
          ],
          "scattergl": [
           {
            "marker": {
             "colorbar": {
              "outlinewidth": 0,
              "ticks": ""
             }
            },
            "type": "scattergl"
           }
          ],
          "scattermapbox": [
           {
            "marker": {
             "colorbar": {
              "outlinewidth": 0,
              "ticks": ""
             }
            },
            "type": "scattermapbox"
           }
          ],
          "scatterpolar": [
           {
            "marker": {
             "colorbar": {
              "outlinewidth": 0,
              "ticks": ""
             }
            },
            "type": "scatterpolar"
           }
          ],
          "scatterpolargl": [
           {
            "marker": {
             "colorbar": {
              "outlinewidth": 0,
              "ticks": ""
             }
            },
            "type": "scatterpolargl"
           }
          ],
          "scatterternary": [
           {
            "marker": {
             "colorbar": {
              "outlinewidth": 0,
              "ticks": ""
             }
            },
            "type": "scatterternary"
           }
          ],
          "surface": [
           {
            "colorbar": {
             "outlinewidth": 0,
             "ticks": ""
            },
            "colorscale": [
             [
              0,
              "#0d0887"
             ],
             [
              0.1111111111111111,
              "#46039f"
             ],
             [
              0.2222222222222222,
              "#7201a8"
             ],
             [
              0.3333333333333333,
              "#9c179e"
             ],
             [
              0.4444444444444444,
              "#bd3786"
             ],
             [
              0.5555555555555556,
              "#d8576b"
             ],
             [
              0.6666666666666666,
              "#ed7953"
             ],
             [
              0.7777777777777778,
              "#fb9f3a"
             ],
             [
              0.8888888888888888,
              "#fdca26"
             ],
             [
              1,
              "#f0f921"
             ]
            ],
            "type": "surface"
           }
          ],
          "table": [
           {
            "cells": {
             "fill": {
              "color": "#EBF0F8"
             },
             "line": {
              "color": "white"
             }
            },
            "header": {
             "fill": {
              "color": "#C8D4E3"
             },
             "line": {
              "color": "white"
             }
            },
            "type": "table"
           }
          ]
         },
         "layout": {
          "annotationdefaults": {
           "arrowcolor": "#2a3f5f",
           "arrowhead": 0,
           "arrowwidth": 1
          },
          "autotypenumbers": "strict",
          "coloraxis": {
           "colorbar": {
            "outlinewidth": 0,
            "ticks": ""
           }
          },
          "colorscale": {
           "diverging": [
            [
             0,
             "#8e0152"
            ],
            [
             0.1,
             "#c51b7d"
            ],
            [
             0.2,
             "#de77ae"
            ],
            [
             0.3,
             "#f1b6da"
            ],
            [
             0.4,
             "#fde0ef"
            ],
            [
             0.5,
             "#f7f7f7"
            ],
            [
             0.6,
             "#e6f5d0"
            ],
            [
             0.7,
             "#b8e186"
            ],
            [
             0.8,
             "#7fbc41"
            ],
            [
             0.9,
             "#4d9221"
            ],
            [
             1,
             "#276419"
            ]
           ],
           "sequential": [
            [
             0,
             "#0d0887"
            ],
            [
             0.1111111111111111,
             "#46039f"
            ],
            [
             0.2222222222222222,
             "#7201a8"
            ],
            [
             0.3333333333333333,
             "#9c179e"
            ],
            [
             0.4444444444444444,
             "#bd3786"
            ],
            [
             0.5555555555555556,
             "#d8576b"
            ],
            [
             0.6666666666666666,
             "#ed7953"
            ],
            [
             0.7777777777777778,
             "#fb9f3a"
            ],
            [
             0.8888888888888888,
             "#fdca26"
            ],
            [
             1,
             "#f0f921"
            ]
           ],
           "sequentialminus": [
            [
             0,
             "#0d0887"
            ],
            [
             0.1111111111111111,
             "#46039f"
            ],
            [
             0.2222222222222222,
             "#7201a8"
            ],
            [
             0.3333333333333333,
             "#9c179e"
            ],
            [
             0.4444444444444444,
             "#bd3786"
            ],
            [
             0.5555555555555556,
             "#d8576b"
            ],
            [
             0.6666666666666666,
             "#ed7953"
            ],
            [
             0.7777777777777778,
             "#fb9f3a"
            ],
            [
             0.8888888888888888,
             "#fdca26"
            ],
            [
             1,
             "#f0f921"
            ]
           ]
          },
          "colorway": [
           "#636efa",
           "#EF553B",
           "#00cc96",
           "#ab63fa",
           "#FFA15A",
           "#19d3f3",
           "#FF6692",
           "#B6E880",
           "#FF97FF",
           "#FECB52"
          ],
          "font": {
           "color": "#2a3f5f"
          },
          "geo": {
           "bgcolor": "white",
           "lakecolor": "white",
           "landcolor": "#E5ECF6",
           "showlakes": true,
           "showland": true,
           "subunitcolor": "white"
          },
          "hoverlabel": {
           "align": "left"
          },
          "hovermode": "closest",
          "mapbox": {
           "style": "light"
          },
          "paper_bgcolor": "white",
          "plot_bgcolor": "#E5ECF6",
          "polar": {
           "angularaxis": {
            "gridcolor": "white",
            "linecolor": "white",
            "ticks": ""
           },
           "bgcolor": "#E5ECF6",
           "radialaxis": {
            "gridcolor": "white",
            "linecolor": "white",
            "ticks": ""
           }
          },
          "scene": {
           "xaxis": {
            "backgroundcolor": "#E5ECF6",
            "gridcolor": "white",
            "gridwidth": 2,
            "linecolor": "white",
            "showbackground": true,
            "ticks": "",
            "zerolinecolor": "white"
           },
           "yaxis": {
            "backgroundcolor": "#E5ECF6",
            "gridcolor": "white",
            "gridwidth": 2,
            "linecolor": "white",
            "showbackground": true,
            "ticks": "",
            "zerolinecolor": "white"
           },
           "zaxis": {
            "backgroundcolor": "#E5ECF6",
            "gridcolor": "white",
            "gridwidth": 2,
            "linecolor": "white",
            "showbackground": true,
            "ticks": "",
            "zerolinecolor": "white"
           }
          },
          "shapedefaults": {
           "line": {
            "color": "#2a3f5f"
           }
          },
          "ternary": {
           "aaxis": {
            "gridcolor": "white",
            "linecolor": "white",
            "ticks": ""
           },
           "baxis": {
            "gridcolor": "white",
            "linecolor": "white",
            "ticks": ""
           },
           "bgcolor": "#E5ECF6",
           "caxis": {
            "gridcolor": "white",
            "linecolor": "white",
            "ticks": ""
           }
          },
          "title": {
           "x": 0.05
          },
          "xaxis": {
           "automargin": true,
           "gridcolor": "white",
           "linecolor": "white",
           "ticks": "",
           "title": {
            "standoff": 15
           },
           "zerolinecolor": "white",
           "zerolinewidth": 2
          },
          "yaxis": {
           "automargin": true,
           "gridcolor": "white",
           "linecolor": "white",
           "ticks": "",
           "title": {
            "standoff": 15
           },
           "zerolinecolor": "white",
           "zerolinewidth": 2
          }
         }
        },
        "xaxis": {
         "showgrid": false,
         "showticklabels": false,
         "zeroline": false
        },
        "yaxis": {
         "showgrid": false,
         "showticklabels": false,
         "zeroline": false
        }
       }
      }
     },
     "metadata": {},
     "output_type": "display_data"
    }
   ],
   "source": [
    "iplot(plotly_wordcloud(crash_causes_string[0]))"
   ]
  },
  {
   "cell_type": "code",
   "execution_count": 36,
   "metadata": {},
   "outputs": [
    {
     "data": {
      "application/vnd.plotly.v1+json": {
       "config": {
        "plotlyServerURL": "https://plot.ly"
       },
       "data": [
        {
         "alignmentgroup": "True",
         "hovertemplate": "unique_values=%{x}<br>counts=%{y}<extra></extra>",
         "legendgroup": "",
         "marker": {
          "color": "#636efa",
          "pattern": {
           "shape": ""
          }
         },
         "name": "",
         "offsetgroup": "",
         "orientation": "v",
         "showlegend": false,
         "textposition": "auto",
         "type": "bar",
         "x": [
          "Driver Inattention/Distraction",
          "Failure to Yield Right-of-Way",
          "Following Too Closely",
          "Backing Unsafely",
          "Other Vehicular",
          "Passing or Lane Usage Improper",
          "Turning Improperly",
          "Passing Too Closely",
          "Fatigued/Drowsy",
          "Unsafe Lane Changing"
         ],
         "xaxis": "x",
         "y": [
          350307,
          103905,
          96842,
          67715,
          55740,
          48034,
          43959,
          43853,
          42153,
          36283
         ],
         "yaxis": "y"
        }
       ],
       "layout": {
        "barmode": "relative",
        "legend": {
         "tracegroupgap": 0
        },
        "margin": {
         "t": 60
        },
        "template": {
         "data": {
          "bar": [
           {
            "error_x": {
             "color": "#2a3f5f"
            },
            "error_y": {
             "color": "#2a3f5f"
            },
            "marker": {
             "line": {
              "color": "#E5ECF6",
              "width": 0.5
             },
             "pattern": {
              "fillmode": "overlay",
              "size": 10,
              "solidity": 0.2
             }
            },
            "type": "bar"
           }
          ],
          "barpolar": [
           {
            "marker": {
             "line": {
              "color": "#E5ECF6",
              "width": 0.5
             },
             "pattern": {
              "fillmode": "overlay",
              "size": 10,
              "solidity": 0.2
             }
            },
            "type": "barpolar"
           }
          ],
          "carpet": [
           {
            "aaxis": {
             "endlinecolor": "#2a3f5f",
             "gridcolor": "white",
             "linecolor": "white",
             "minorgridcolor": "white",
             "startlinecolor": "#2a3f5f"
            },
            "baxis": {
             "endlinecolor": "#2a3f5f",
             "gridcolor": "white",
             "linecolor": "white",
             "minorgridcolor": "white",
             "startlinecolor": "#2a3f5f"
            },
            "type": "carpet"
           }
          ],
          "choropleth": [
           {
            "colorbar": {
             "outlinewidth": 0,
             "ticks": ""
            },
            "type": "choropleth"
           }
          ],
          "contour": [
           {
            "colorbar": {
             "outlinewidth": 0,
             "ticks": ""
            },
            "colorscale": [
             [
              0,
              "#0d0887"
             ],
             [
              0.1111111111111111,
              "#46039f"
             ],
             [
              0.2222222222222222,
              "#7201a8"
             ],
             [
              0.3333333333333333,
              "#9c179e"
             ],
             [
              0.4444444444444444,
              "#bd3786"
             ],
             [
              0.5555555555555556,
              "#d8576b"
             ],
             [
              0.6666666666666666,
              "#ed7953"
             ],
             [
              0.7777777777777778,
              "#fb9f3a"
             ],
             [
              0.8888888888888888,
              "#fdca26"
             ],
             [
              1,
              "#f0f921"
             ]
            ],
            "type": "contour"
           }
          ],
          "contourcarpet": [
           {
            "colorbar": {
             "outlinewidth": 0,
             "ticks": ""
            },
            "type": "contourcarpet"
           }
          ],
          "heatmap": [
           {
            "colorbar": {
             "outlinewidth": 0,
             "ticks": ""
            },
            "colorscale": [
             [
              0,
              "#0d0887"
             ],
             [
              0.1111111111111111,
              "#46039f"
             ],
             [
              0.2222222222222222,
              "#7201a8"
             ],
             [
              0.3333333333333333,
              "#9c179e"
             ],
             [
              0.4444444444444444,
              "#bd3786"
             ],
             [
              0.5555555555555556,
              "#d8576b"
             ],
             [
              0.6666666666666666,
              "#ed7953"
             ],
             [
              0.7777777777777778,
              "#fb9f3a"
             ],
             [
              0.8888888888888888,
              "#fdca26"
             ],
             [
              1,
              "#f0f921"
             ]
            ],
            "type": "heatmap"
           }
          ],
          "heatmapgl": [
           {
            "colorbar": {
             "outlinewidth": 0,
             "ticks": ""
            },
            "colorscale": [
             [
              0,
              "#0d0887"
             ],
             [
              0.1111111111111111,
              "#46039f"
             ],
             [
              0.2222222222222222,
              "#7201a8"
             ],
             [
              0.3333333333333333,
              "#9c179e"
             ],
             [
              0.4444444444444444,
              "#bd3786"
             ],
             [
              0.5555555555555556,
              "#d8576b"
             ],
             [
              0.6666666666666666,
              "#ed7953"
             ],
             [
              0.7777777777777778,
              "#fb9f3a"
             ],
             [
              0.8888888888888888,
              "#fdca26"
             ],
             [
              1,
              "#f0f921"
             ]
            ],
            "type": "heatmapgl"
           }
          ],
          "histogram": [
           {
            "marker": {
             "pattern": {
              "fillmode": "overlay",
              "size": 10,
              "solidity": 0.2
             }
            },
            "type": "histogram"
           }
          ],
          "histogram2d": [
           {
            "colorbar": {
             "outlinewidth": 0,
             "ticks": ""
            },
            "colorscale": [
             [
              0,
              "#0d0887"
             ],
             [
              0.1111111111111111,
              "#46039f"
             ],
             [
              0.2222222222222222,
              "#7201a8"
             ],
             [
              0.3333333333333333,
              "#9c179e"
             ],
             [
              0.4444444444444444,
              "#bd3786"
             ],
             [
              0.5555555555555556,
              "#d8576b"
             ],
             [
              0.6666666666666666,
              "#ed7953"
             ],
             [
              0.7777777777777778,
              "#fb9f3a"
             ],
             [
              0.8888888888888888,
              "#fdca26"
             ],
             [
              1,
              "#f0f921"
             ]
            ],
            "type": "histogram2d"
           }
          ],
          "histogram2dcontour": [
           {
            "colorbar": {
             "outlinewidth": 0,
             "ticks": ""
            },
            "colorscale": [
             [
              0,
              "#0d0887"
             ],
             [
              0.1111111111111111,
              "#46039f"
             ],
             [
              0.2222222222222222,
              "#7201a8"
             ],
             [
              0.3333333333333333,
              "#9c179e"
             ],
             [
              0.4444444444444444,
              "#bd3786"
             ],
             [
              0.5555555555555556,
              "#d8576b"
             ],
             [
              0.6666666666666666,
              "#ed7953"
             ],
             [
              0.7777777777777778,
              "#fb9f3a"
             ],
             [
              0.8888888888888888,
              "#fdca26"
             ],
             [
              1,
              "#f0f921"
             ]
            ],
            "type": "histogram2dcontour"
           }
          ],
          "mesh3d": [
           {
            "colorbar": {
             "outlinewidth": 0,
             "ticks": ""
            },
            "type": "mesh3d"
           }
          ],
          "parcoords": [
           {
            "line": {
             "colorbar": {
              "outlinewidth": 0,
              "ticks": ""
             }
            },
            "type": "parcoords"
           }
          ],
          "pie": [
           {
            "automargin": true,
            "type": "pie"
           }
          ],
          "scatter": [
           {
            "marker": {
             "colorbar": {
              "outlinewidth": 0,
              "ticks": ""
             }
            },
            "type": "scatter"
           }
          ],
          "scatter3d": [
           {
            "line": {
             "colorbar": {
              "outlinewidth": 0,
              "ticks": ""
             }
            },
            "marker": {
             "colorbar": {
              "outlinewidth": 0,
              "ticks": ""
             }
            },
            "type": "scatter3d"
           }
          ],
          "scattercarpet": [
           {
            "marker": {
             "colorbar": {
              "outlinewidth": 0,
              "ticks": ""
             }
            },
            "type": "scattercarpet"
           }
          ],
          "scattergeo": [
           {
            "marker": {
             "colorbar": {
              "outlinewidth": 0,
              "ticks": ""
             }
            },
            "type": "scattergeo"
           }
          ],
          "scattergl": [
           {
            "marker": {
             "colorbar": {
              "outlinewidth": 0,
              "ticks": ""
             }
            },
            "type": "scattergl"
           }
          ],
          "scattermapbox": [
           {
            "marker": {
             "colorbar": {
              "outlinewidth": 0,
              "ticks": ""
             }
            },
            "type": "scattermapbox"
           }
          ],
          "scatterpolar": [
           {
            "marker": {
             "colorbar": {
              "outlinewidth": 0,
              "ticks": ""
             }
            },
            "type": "scatterpolar"
           }
          ],
          "scatterpolargl": [
           {
            "marker": {
             "colorbar": {
              "outlinewidth": 0,
              "ticks": ""
             }
            },
            "type": "scatterpolargl"
           }
          ],
          "scatterternary": [
           {
            "marker": {
             "colorbar": {
              "outlinewidth": 0,
              "ticks": ""
             }
            },
            "type": "scatterternary"
           }
          ],
          "surface": [
           {
            "colorbar": {
             "outlinewidth": 0,
             "ticks": ""
            },
            "colorscale": [
             [
              0,
              "#0d0887"
             ],
             [
              0.1111111111111111,
              "#46039f"
             ],
             [
              0.2222222222222222,
              "#7201a8"
             ],
             [
              0.3333333333333333,
              "#9c179e"
             ],
             [
              0.4444444444444444,
              "#bd3786"
             ],
             [
              0.5555555555555556,
              "#d8576b"
             ],
             [
              0.6666666666666666,
              "#ed7953"
             ],
             [
              0.7777777777777778,
              "#fb9f3a"
             ],
             [
              0.8888888888888888,
              "#fdca26"
             ],
             [
              1,
              "#f0f921"
             ]
            ],
            "type": "surface"
           }
          ],
          "table": [
           {
            "cells": {
             "fill": {
              "color": "#EBF0F8"
             },
             "line": {
              "color": "white"
             }
            },
            "header": {
             "fill": {
              "color": "#C8D4E3"
             },
             "line": {
              "color": "white"
             }
            },
            "type": "table"
           }
          ]
         },
         "layout": {
          "annotationdefaults": {
           "arrowcolor": "#2a3f5f",
           "arrowhead": 0,
           "arrowwidth": 1
          },
          "autotypenumbers": "strict",
          "coloraxis": {
           "colorbar": {
            "outlinewidth": 0,
            "ticks": ""
           }
          },
          "colorscale": {
           "diverging": [
            [
             0,
             "#8e0152"
            ],
            [
             0.1,
             "#c51b7d"
            ],
            [
             0.2,
             "#de77ae"
            ],
            [
             0.3,
             "#f1b6da"
            ],
            [
             0.4,
             "#fde0ef"
            ],
            [
             0.5,
             "#f7f7f7"
            ],
            [
             0.6,
             "#e6f5d0"
            ],
            [
             0.7,
             "#b8e186"
            ],
            [
             0.8,
             "#7fbc41"
            ],
            [
             0.9,
             "#4d9221"
            ],
            [
             1,
             "#276419"
            ]
           ],
           "sequential": [
            [
             0,
             "#0d0887"
            ],
            [
             0.1111111111111111,
             "#46039f"
            ],
            [
             0.2222222222222222,
             "#7201a8"
            ],
            [
             0.3333333333333333,
             "#9c179e"
            ],
            [
             0.4444444444444444,
             "#bd3786"
            ],
            [
             0.5555555555555556,
             "#d8576b"
            ],
            [
             0.6666666666666666,
             "#ed7953"
            ],
            [
             0.7777777777777778,
             "#fb9f3a"
            ],
            [
             0.8888888888888888,
             "#fdca26"
            ],
            [
             1,
             "#f0f921"
            ]
           ],
           "sequentialminus": [
            [
             0,
             "#0d0887"
            ],
            [
             0.1111111111111111,
             "#46039f"
            ],
            [
             0.2222222222222222,
             "#7201a8"
            ],
            [
             0.3333333333333333,
             "#9c179e"
            ],
            [
             0.4444444444444444,
             "#bd3786"
            ],
            [
             0.5555555555555556,
             "#d8576b"
            ],
            [
             0.6666666666666666,
             "#ed7953"
            ],
            [
             0.7777777777777778,
             "#fb9f3a"
            ],
            [
             0.8888888888888888,
             "#fdca26"
            ],
            [
             1,
             "#f0f921"
            ]
           ]
          },
          "colorway": [
           "#636efa",
           "#EF553B",
           "#00cc96",
           "#ab63fa",
           "#FFA15A",
           "#19d3f3",
           "#FF6692",
           "#B6E880",
           "#FF97FF",
           "#FECB52"
          ],
          "font": {
           "color": "#2a3f5f"
          },
          "geo": {
           "bgcolor": "white",
           "lakecolor": "white",
           "landcolor": "#E5ECF6",
           "showlakes": true,
           "showland": true,
           "subunitcolor": "white"
          },
          "hoverlabel": {
           "align": "left"
          },
          "hovermode": "closest",
          "mapbox": {
           "style": "light"
          },
          "paper_bgcolor": "white",
          "plot_bgcolor": "#E5ECF6",
          "polar": {
           "angularaxis": {
            "gridcolor": "white",
            "linecolor": "white",
            "ticks": ""
           },
           "bgcolor": "#E5ECF6",
           "radialaxis": {
            "gridcolor": "white",
            "linecolor": "white",
            "ticks": ""
           }
          },
          "scene": {
           "xaxis": {
            "backgroundcolor": "#E5ECF6",
            "gridcolor": "white",
            "gridwidth": 2,
            "linecolor": "white",
            "showbackground": true,
            "ticks": "",
            "zerolinecolor": "white"
           },
           "yaxis": {
            "backgroundcolor": "#E5ECF6",
            "gridcolor": "white",
            "gridwidth": 2,
            "linecolor": "white",
            "showbackground": true,
            "ticks": "",
            "zerolinecolor": "white"
           },
           "zaxis": {
            "backgroundcolor": "#E5ECF6",
            "gridcolor": "white",
            "gridwidth": 2,
            "linecolor": "white",
            "showbackground": true,
            "ticks": "",
            "zerolinecolor": "white"
           }
          },
          "shapedefaults": {
           "line": {
            "color": "#2a3f5f"
           }
          },
          "ternary": {
           "aaxis": {
            "gridcolor": "white",
            "linecolor": "white",
            "ticks": ""
           },
           "baxis": {
            "gridcolor": "white",
            "linecolor": "white",
            "ticks": ""
           },
           "bgcolor": "#E5ECF6",
           "caxis": {
            "gridcolor": "white",
            "linecolor": "white",
            "ticks": ""
           }
          },
          "title": {
           "x": 0.05
          },
          "xaxis": {
           "automargin": true,
           "gridcolor": "white",
           "linecolor": "white",
           "ticks": "",
           "title": {
            "standoff": 15
           },
           "zerolinecolor": "white",
           "zerolinewidth": 2
          },
          "yaxis": {
           "automargin": true,
           "gridcolor": "white",
           "linecolor": "white",
           "ticks": "",
           "title": {
            "standoff": 15
           },
           "zerolinecolor": "white",
           "zerolinewidth": 2
          }
         }
        },
        "xaxis": {
         "anchor": "y",
         "domain": [
          0,
          1
         ],
         "title": {
          "text": "unique_values"
         }
        },
        "yaxis": {
         "anchor": "x",
         "domain": [
          0,
          1
         ],
         "title": {
          "text": "counts"
         }
        }
       }
      }
     },
     "metadata": {},
     "output_type": "display_data"
    }
   ],
   "source": [
    "fig = px.bar(top_10_crashes_causes, x=\"unique_values\", y=\"counts\")\n",
    "fig"
   ]
  },
  {
   "cell_type": "code",
   "execution_count": null,
   "metadata": {},
   "outputs": [],
   "source": []
  },
  {
   "cell_type": "code",
   "execution_count": 12,
   "metadata": {},
   "outputs": [
    {
     "data": {
      "text/plain": [
       "Timestamp('2022-01-04 00:00:00')"
      ]
     },
     "execution_count": 12,
     "metadata": {},
     "output_type": "execute_result"
    }
   ],
   "source": [
    "historical_df.crash_date.max()"
   ]
  },
  {
   "cell_type": "code",
   "execution_count": 5,
   "metadata": {},
   "outputs": [
    {
     "data": {
      "text/html": [
       "<div>\n",
       "<style scoped>\n",
       "    .dataframe tbody tr th:only-of-type {\n",
       "        vertical-align: middle;\n",
       "    }\n",
       "\n",
       "    .dataframe tbody tr th {\n",
       "        vertical-align: top;\n",
       "    }\n",
       "\n",
       "    .dataframe thead th {\n",
       "        text-align: right;\n",
       "    }\n",
       "</style>\n",
       "<table border=\"1\" class=\"dataframe\">\n",
       "  <thead>\n",
       "    <tr style=\"text-align: right;\">\n",
       "      <th></th>\n",
       "      <th>crash_year</th>\n",
       "      <th>crash_month</th>\n",
       "      <th>collision_id</th>\n",
       "      <th>number_of_persons_injured</th>\n",
       "      <th>number_of_persons_killed</th>\n",
       "      <th>number_of_pedestrians_injured</th>\n",
       "      <th>number_of_pedestrians_killed</th>\n",
       "      <th>number_of_cyclist_injured</th>\n",
       "      <th>number_of_cyclist_killed</th>\n",
       "      <th>number_of_motorist_injured</th>\n",
       "      <th>number_of_motorist_killed</th>\n",
       "    </tr>\n",
       "  </thead>\n",
       "  <tbody>\n",
       "    <tr>\n",
       "      <th>0</th>\n",
       "      <td>2013</td>\n",
       "      <td>1</td>\n",
       "      <td>15643</td>\n",
       "      <td>4043</td>\n",
       "      <td>29</td>\n",
       "      <td>1113</td>\n",
       "      <td>21</td>\n",
       "      <td>192</td>\n",
       "      <td>0</td>\n",
       "      <td>2738</td>\n",
       "      <td>8</td>\n",
       "    </tr>\n",
       "    <tr>\n",
       "      <th>1</th>\n",
       "      <td>2013</td>\n",
       "      <td>2</td>\n",
       "      <td>14399</td>\n",
       "      <td>3562</td>\n",
       "      <td>20</td>\n",
       "      <td>984</td>\n",
       "      <td>13</td>\n",
       "      <td>131</td>\n",
       "      <td>0</td>\n",
       "      <td>2447</td>\n",
       "      <td>7</td>\n",
       "    </tr>\n",
       "    <tr>\n",
       "      <th>2</th>\n",
       "      <td>2013</td>\n",
       "      <td>3</td>\n",
       "      <td>16509</td>\n",
       "      <td>4187</td>\n",
       "      <td>23</td>\n",
       "      <td>988</td>\n",
       "      <td>13</td>\n",
       "      <td>195</td>\n",
       "      <td>1</td>\n",
       "      <td>3004</td>\n",
       "      <td>9</td>\n",
       "    </tr>\n",
       "    <tr>\n",
       "      <th>3</th>\n",
       "      <td>2013</td>\n",
       "      <td>4</td>\n",
       "      <td>16439</td>\n",
       "      <td>4437</td>\n",
       "      <td>16</td>\n",
       "      <td>901</td>\n",
       "      <td>12</td>\n",
       "      <td>290</td>\n",
       "      <td>0</td>\n",
       "      <td>3246</td>\n",
       "      <td>4</td>\n",
       "    </tr>\n",
       "    <tr>\n",
       "      <th>4</th>\n",
       "      <td>2013</td>\n",
       "      <td>5</td>\n",
       "      <td>18486</td>\n",
       "      <td>5025</td>\n",
       "      <td>16</td>\n",
       "      <td>982</td>\n",
       "      <td>7</td>\n",
       "      <td>400</td>\n",
       "      <td>2</td>\n",
       "      <td>3643</td>\n",
       "      <td>7</td>\n",
       "    </tr>\n",
       "    <tr>\n",
       "      <th>...</th>\n",
       "      <td>...</td>\n",
       "      <td>...</td>\n",
       "      <td>...</td>\n",
       "      <td>...</td>\n",
       "      <td>...</td>\n",
       "      <td>...</td>\n",
       "      <td>...</td>\n",
       "      <td>...</td>\n",
       "      <td>...</td>\n",
       "      <td>...</td>\n",
       "      <td>...</td>\n",
       "    </tr>\n",
       "    <tr>\n",
       "      <th>104</th>\n",
       "      <td>2021</td>\n",
       "      <td>9</td>\n",
       "      <td>9882</td>\n",
       "      <td>4967</td>\n",
       "      <td>23</td>\n",
       "      <td>713</td>\n",
       "      <td>7</td>\n",
       "      <td>497</td>\n",
       "      <td>3</td>\n",
       "      <td>3480</td>\n",
       "      <td>13</td>\n",
       "    </tr>\n",
       "    <tr>\n",
       "      <th>105</th>\n",
       "      <td>2021</td>\n",
       "      <td>10</td>\n",
       "      <td>10192</td>\n",
       "      <td>5026</td>\n",
       "      <td>33</td>\n",
       "      <td>805</td>\n",
       "      <td>15</td>\n",
       "      <td>543</td>\n",
       "      <td>3</td>\n",
       "      <td>3416</td>\n",
       "      <td>12</td>\n",
       "    </tr>\n",
       "    <tr>\n",
       "      <th>106</th>\n",
       "      <td>2021</td>\n",
       "      <td>11</td>\n",
       "      <td>9344</td>\n",
       "      <td>4497</td>\n",
       "      <td>23</td>\n",
       "      <td>764</td>\n",
       "      <td>11</td>\n",
       "      <td>392</td>\n",
       "      <td>1</td>\n",
       "      <td>3153</td>\n",
       "      <td>11</td>\n",
       "    </tr>\n",
       "    <tr>\n",
       "      <th>107</th>\n",
       "      <td>2021</td>\n",
       "      <td>12</td>\n",
       "      <td>8394</td>\n",
       "      <td>4039</td>\n",
       "      <td>17</td>\n",
       "      <td>787</td>\n",
       "      <td>6</td>\n",
       "      <td>319</td>\n",
       "      <td>1</td>\n",
       "      <td>2771</td>\n",
       "      <td>9</td>\n",
       "    </tr>\n",
       "    <tr>\n",
       "      <th>108</th>\n",
       "      <td>2022</td>\n",
       "      <td>1</td>\n",
       "      <td>781</td>\n",
       "      <td>342</td>\n",
       "      <td>4</td>\n",
       "      <td>61</td>\n",
       "      <td>2</td>\n",
       "      <td>20</td>\n",
       "      <td>0</td>\n",
       "      <td>253</td>\n",
       "      <td>2</td>\n",
       "    </tr>\n",
       "  </tbody>\n",
       "</table>\n",
       "<p>109 rows × 11 columns</p>\n",
       "</div>"
      ],
      "text/plain": [
       "     crash_year  crash_month  collision_id  number_of_persons_injured  \\\n",
       "0          2013            1         15643                       4043   \n",
       "1          2013            2         14399                       3562   \n",
       "2          2013            3         16509                       4187   \n",
       "3          2013            4         16439                       4437   \n",
       "4          2013            5         18486                       5025   \n",
       "..          ...          ...           ...                        ...   \n",
       "104        2021            9          9882                       4967   \n",
       "105        2021           10         10192                       5026   \n",
       "106        2021           11          9344                       4497   \n",
       "107        2021           12          8394                       4039   \n",
       "108        2022            1           781                        342   \n",
       "\n",
       "     number_of_persons_killed  number_of_pedestrians_injured  \\\n",
       "0                          29                           1113   \n",
       "1                          20                            984   \n",
       "2                          23                            988   \n",
       "3                          16                            901   \n",
       "4                          16                            982   \n",
       "..                        ...                            ...   \n",
       "104                        23                            713   \n",
       "105                        33                            805   \n",
       "106                        23                            764   \n",
       "107                        17                            787   \n",
       "108                         4                             61   \n",
       "\n",
       "     number_of_pedestrians_killed  number_of_cyclist_injured  \\\n",
       "0                              21                        192   \n",
       "1                              13                        131   \n",
       "2                              13                        195   \n",
       "3                              12                        290   \n",
       "4                               7                        400   \n",
       "..                            ...                        ...   \n",
       "104                             7                        497   \n",
       "105                            15                        543   \n",
       "106                            11                        392   \n",
       "107                             6                        319   \n",
       "108                             2                         20   \n",
       "\n",
       "     number_of_cyclist_killed  number_of_motorist_injured  \\\n",
       "0                           0                        2738   \n",
       "1                           0                        2447   \n",
       "2                           1                        3004   \n",
       "3                           0                        3246   \n",
       "4                           2                        3643   \n",
       "..                        ...                         ...   \n",
       "104                         3                        3480   \n",
       "105                         3                        3416   \n",
       "106                         1                        3153   \n",
       "107                         1                        2771   \n",
       "108                         0                         253   \n",
       "\n",
       "     number_of_motorist_killed  \n",
       "0                            8  \n",
       "1                            7  \n",
       "2                            9  \n",
       "3                            4  \n",
       "4                            7  \n",
       "..                         ...  \n",
       "104                         13  \n",
       "105                         12  \n",
       "106                         11  \n",
       "107                          9  \n",
       "108                          2  \n",
       "\n",
       "[109 rows x 11 columns]"
      ]
     },
     "execution_count": 5,
     "metadata": {},
     "output_type": "execute_result"
    }
   ],
   "source": [
    "by_year_and_boro = historical_df.groupby(['crash_year', 'crash_month']).agg({\n",
    "    'collision_id': 'count',\n",
    "    'number_of_persons_injured': 'sum',\n",
    "    'number_of_persons_killed': 'sum',\n",
    "    'number_of_pedestrians_injured': 'sum',\n",
    "    'number_of_pedestrians_killed': 'sum',\n",
    "    'number_of_cyclist_injured': 'sum',\n",
    "    'number_of_cyclist_killed': 'sum',\n",
    "    'number_of_motorist_injured': 'sum',\n",
    "    'number_of_motorist_killed': 'sum'\n",
    "}).reset_index()\n",
    "by_year_and_boro"
   ]
  },
  {
   "cell_type": "code",
   "execution_count": 9,
   "metadata": {},
   "outputs": [
    {
     "data": {
      "application/vnd.plotly.v1+json": {
       "config": {
        "plotlyServerURL": "https://plot.ly"
       },
       "data": [
        {
         "hovertemplate": "crash_year=2013<br>crash_month=%{x}<br>collision_id=%{y}<extra></extra>",
         "legendgroup": "2013",
         "line": {
          "color": "#636efa",
          "dash": "solid"
         },
         "marker": {
          "symbol": "circle"
         },
         "mode": "lines",
         "name": "2013",
         "orientation": "v",
         "showlegend": true,
         "type": "scatter",
         "x": [
          1,
          2,
          3,
          4,
          5,
          6,
          7,
          8,
          9,
          10,
          11,
          12
         ],
         "xaxis": "x",
         "y": [
          15643,
          14399,
          16509,
          16439,
          18486,
          18204,
          17578,
          16757,
          16955,
          17713,
          17771,
          17280
         ],
         "yaxis": "y"
        },
        {
         "hovertemplate": "crash_year=2014<br>crash_month=%{x}<br>collision_id=%{y}<extra></extra>",
         "legendgroup": "2014",
         "line": {
          "color": "#EF553B",
          "dash": "solid"
         },
         "marker": {
          "symbol": "circle"
         },
         "mode": "lines",
         "name": "2014",
         "orientation": "v",
         "showlegend": true,
         "type": "scatter",
         "x": [
          1,
          2,
          3,
          4,
          5,
          6,
          7,
          8,
          9,
          10,
          11,
          12
         ],
         "xaxis": "x",
         "y": [
          16674,
          15738,
          15861,
          16371,
          18276,
          18410,
          17458,
          17093,
          17828,
          18086,
          16983,
          17255
         ],
         "yaxis": "y"
        },
        {
         "hovertemplate": "crash_year=2015<br>crash_month=%{x}<br>collision_id=%{y}<extra></extra>",
         "legendgroup": "2015",
         "line": {
          "color": "#00cc96",
          "dash": "solid"
         },
         "marker": {
          "symbol": "circle"
         },
         "mode": "lines",
         "name": "2015",
         "orientation": "v",
         "showlegend": true,
         "type": "scatter",
         "x": [
          1,
          2,
          3,
          4,
          5,
          6,
          7,
          8,
          9,
          10,
          11,
          12
         ],
         "xaxis": "x",
         "y": [
          16127,
          15713,
          17955,
          16793,
          19273,
          18825,
          18770,
          18980,
          18514,
          19849,
          18022,
          18873
         ],
         "yaxis": "y"
        },
        {
         "hovertemplate": "crash_year=2016<br>crash_month=%{x}<br>collision_id=%{y}<extra></extra>",
         "legendgroup": "2016",
         "line": {
          "color": "#ab63fa",
          "dash": "solid"
         },
         "marker": {
          "symbol": "circle"
         },
         "mode": "lines",
         "name": "2016",
         "orientation": "v",
         "showlegend": true,
         "type": "scatter",
         "x": [
          1,
          2,
          3,
          4,
          5,
          6,
          7,
          8,
          9,
          10,
          11,
          12
         ],
         "xaxis": "x",
         "y": [
          18097,
          15987,
          18781,
          18577,
          20185,
          20711,
          19970,
          19700,
          19512,
          19677,
          19388,
          19246
         ],
         "yaxis": "y"
        },
        {
         "hovertemplate": "crash_year=2017<br>crash_month=%{x}<br>collision_id=%{y}<extra></extra>",
         "legendgroup": "2017",
         "line": {
          "color": "#FFA15A",
          "dash": "solid"
         },
         "marker": {
          "symbol": "circle"
         },
         "mode": "lines",
         "name": "2017",
         "orientation": "v",
         "showlegend": true,
         "type": "scatter",
         "x": [
          1,
          2,
          3,
          4,
          5,
          6,
          7,
          8,
          9,
          10,
          11,
          12
         ],
         "xaxis": "x",
         "y": [
          17549,
          15836,
          19336,
          17829,
          21013,
          21373,
          19593,
          19137,
          19604,
          20360,
          19661,
          19717
         ],
         "yaxis": "y"
        },
        {
         "hovertemplate": "crash_year=2018<br>crash_month=%{x}<br>collision_id=%{y}<extra></extra>",
         "legendgroup": "2018",
         "line": {
          "color": "#19d3f3",
          "dash": "solid"
         },
         "marker": {
          "symbol": "circle"
         },
         "mode": "lines",
         "name": "2018",
         "orientation": "v",
         "showlegend": true,
         "type": "scatter",
         "x": [
          1,
          2,
          3,
          4,
          5,
          6,
          7,
          8,
          9,
          10,
          11,
          12
         ],
         "xaxis": "x",
         "y": [
          18122,
          15990,
          19273,
          18195,
          20842,
          20796,
          19707,
          19642,
          19237,
          20820,
          19436,
          19501
         ],
         "yaxis": "y"
        },
        {
         "hovertemplate": "crash_year=2019<br>crash_month=%{x}<br>collision_id=%{y}<extra></extra>",
         "legendgroup": "2019",
         "line": {
          "color": "#FF6692",
          "dash": "solid"
         },
         "marker": {
          "symbol": "circle"
         },
         "mode": "lines",
         "name": "2019",
         "orientation": "v",
         "showlegend": true,
         "type": "scatter",
         "x": [
          1,
          2,
          3,
          4,
          5,
          6,
          7,
          8,
          9,
          10,
          11,
          12
         ],
         "xaxis": "x",
         "y": [
          16929,
          16065,
          17759,
          16829,
          19588,
          19516,
          18420,
          17215,
          17541,
          17611,
          16953,
          17059
         ],
         "yaxis": "y"
        },
        {
         "hovertemplate": "crash_year=2020<br>crash_month=%{x}<br>collision_id=%{y}<extra></extra>",
         "legendgroup": "2020",
         "line": {
          "color": "#B6E880",
          "dash": "solid"
         },
         "marker": {
          "symbol": "circle"
         },
         "mode": "lines",
         "name": "2020",
         "orientation": "v",
         "showlegend": true,
         "type": "scatter",
         "x": [
          1,
          2,
          3,
          4,
          5,
          6,
          7,
          8,
          9,
          10,
          11,
          12
         ],
         "xaxis": "x",
         "y": [
          14363,
          13704,
          11074,
          4127,
          6163,
          7641,
          9277,
          9820,
          9609,
          9710,
          9028,
          8379
         ],
         "yaxis": "y"
        },
        {
         "hovertemplate": "crash_year=2021<br>crash_month=%{x}<br>collision_id=%{y}<extra></extra>",
         "legendgroup": "2021",
         "line": {
          "color": "#FF97FF",
          "dash": "solid"
         },
         "marker": {
          "symbol": "circle"
         },
         "mode": "lines",
         "name": "2021",
         "orientation": "v",
         "showlegend": true,
         "type": "scatter",
         "x": [
          1,
          2,
          3,
          4,
          5,
          6,
          7,
          8,
          9,
          10,
          11,
          12
         ],
         "xaxis": "x",
         "y": [
          7683,
          6962,
          8259,
          8749,
          10280,
          10606,
          9998,
          9873,
          9882,
          10192,
          9344,
          8394
         ],
         "yaxis": "y"
        },
        {
         "hovertemplate": "crash_year=2022<br>crash_month=%{x}<br>collision_id=%{y}<extra></extra>",
         "legendgroup": "2022",
         "line": {
          "color": "#FECB52",
          "dash": "solid"
         },
         "marker": {
          "symbol": "circle"
         },
         "mode": "lines",
         "name": "2022",
         "orientation": "v",
         "showlegend": true,
         "type": "scatter",
         "x": [
          1
         ],
         "xaxis": "x",
         "y": [
          781
         ],
         "yaxis": "y"
        }
       ],
       "layout": {
        "annotations": [
         {
          "ax": 10,
          "ay": 10,
          "font": {
           "color": "#636efa"
          },
          "showarrow": false,
          "text": "  2013",
          "x": 12,
          "xanchor": "left",
          "y": 17280
         },
         {
          "ax": 10,
          "ay": 10,
          "font": {
           "color": "#EF553B"
          },
          "showarrow": false,
          "text": "  2014",
          "x": 12,
          "xanchor": "left",
          "y": 17255
         },
         {
          "ax": 10,
          "ay": 10,
          "font": {
           "color": "#00cc96"
          },
          "showarrow": false,
          "text": "  2015",
          "x": 12,
          "xanchor": "left",
          "y": 18873
         },
         {
          "ax": 10,
          "ay": 10,
          "font": {
           "color": "#ab63fa"
          },
          "showarrow": false,
          "text": "  2016",
          "x": 12,
          "xanchor": "left",
          "y": 19246
         },
         {
          "ax": 10,
          "ay": 10,
          "font": {
           "color": "#FFA15A"
          },
          "showarrow": false,
          "text": "  2017",
          "x": 12,
          "xanchor": "left",
          "y": 19717
         },
         {
          "ax": 10,
          "ay": 10,
          "font": {
           "color": "#19d3f3"
          },
          "showarrow": false,
          "text": "  2018",
          "x": 12,
          "xanchor": "left",
          "y": 19501
         },
         {
          "ax": 10,
          "ay": 10,
          "font": {
           "color": "#FF6692"
          },
          "showarrow": false,
          "text": "  2019",
          "x": 12,
          "xanchor": "left",
          "y": 17059
         },
         {
          "ax": 10,
          "ay": 10,
          "font": {
           "color": "#B6E880"
          },
          "showarrow": false,
          "text": "  2020",
          "x": 12,
          "xanchor": "left",
          "y": 8379
         },
         {
          "ax": 10,
          "ay": 10,
          "font": {
           "color": "#FF97FF"
          },
          "showarrow": false,
          "text": "  2021",
          "x": 12,
          "xanchor": "left",
          "y": 8394
         },
         {
          "ax": 10,
          "ay": 10,
          "font": {
           "color": "#FECB52"
          },
          "showarrow": false,
          "text": "  2022",
          "x": 1,
          "xanchor": "left",
          "y": 781
         }
        ],
        "autosize": true,
        "hovermode": "x unified",
        "legend": {
         "title": {
          "text": "crash_year"
         },
         "tracegroupgap": 0
        },
        "margin": {
         "t": 60
        },
        "plot_bgcolor": "rgba(0,0,0,0)",
        "showlegend": false,
        "template": {
         "data": {
          "bar": [
           {
            "error_x": {
             "color": "#2a3f5f"
            },
            "error_y": {
             "color": "#2a3f5f"
            },
            "marker": {
             "line": {
              "color": "#E5ECF6",
              "width": 0.5
             },
             "pattern": {
              "fillmode": "overlay",
              "size": 10,
              "solidity": 0.2
             }
            },
            "type": "bar"
           }
          ],
          "barpolar": [
           {
            "marker": {
             "line": {
              "color": "#E5ECF6",
              "width": 0.5
             },
             "pattern": {
              "fillmode": "overlay",
              "size": 10,
              "solidity": 0.2
             }
            },
            "type": "barpolar"
           }
          ],
          "carpet": [
           {
            "aaxis": {
             "endlinecolor": "#2a3f5f",
             "gridcolor": "white",
             "linecolor": "white",
             "minorgridcolor": "white",
             "startlinecolor": "#2a3f5f"
            },
            "baxis": {
             "endlinecolor": "#2a3f5f",
             "gridcolor": "white",
             "linecolor": "white",
             "minorgridcolor": "white",
             "startlinecolor": "#2a3f5f"
            },
            "type": "carpet"
           }
          ],
          "choropleth": [
           {
            "colorbar": {
             "outlinewidth": 0,
             "ticks": ""
            },
            "type": "choropleth"
           }
          ],
          "contour": [
           {
            "colorbar": {
             "outlinewidth": 0,
             "ticks": ""
            },
            "colorscale": [
             [
              0,
              "#0d0887"
             ],
             [
              0.1111111111111111,
              "#46039f"
             ],
             [
              0.2222222222222222,
              "#7201a8"
             ],
             [
              0.3333333333333333,
              "#9c179e"
             ],
             [
              0.4444444444444444,
              "#bd3786"
             ],
             [
              0.5555555555555556,
              "#d8576b"
             ],
             [
              0.6666666666666666,
              "#ed7953"
             ],
             [
              0.7777777777777778,
              "#fb9f3a"
             ],
             [
              0.8888888888888888,
              "#fdca26"
             ],
             [
              1,
              "#f0f921"
             ]
            ],
            "type": "contour"
           }
          ],
          "contourcarpet": [
           {
            "colorbar": {
             "outlinewidth": 0,
             "ticks": ""
            },
            "type": "contourcarpet"
           }
          ],
          "heatmap": [
           {
            "colorbar": {
             "outlinewidth": 0,
             "ticks": ""
            },
            "colorscale": [
             [
              0,
              "#0d0887"
             ],
             [
              0.1111111111111111,
              "#46039f"
             ],
             [
              0.2222222222222222,
              "#7201a8"
             ],
             [
              0.3333333333333333,
              "#9c179e"
             ],
             [
              0.4444444444444444,
              "#bd3786"
             ],
             [
              0.5555555555555556,
              "#d8576b"
             ],
             [
              0.6666666666666666,
              "#ed7953"
             ],
             [
              0.7777777777777778,
              "#fb9f3a"
             ],
             [
              0.8888888888888888,
              "#fdca26"
             ],
             [
              1,
              "#f0f921"
             ]
            ],
            "type": "heatmap"
           }
          ],
          "heatmapgl": [
           {
            "colorbar": {
             "outlinewidth": 0,
             "ticks": ""
            },
            "colorscale": [
             [
              0,
              "#0d0887"
             ],
             [
              0.1111111111111111,
              "#46039f"
             ],
             [
              0.2222222222222222,
              "#7201a8"
             ],
             [
              0.3333333333333333,
              "#9c179e"
             ],
             [
              0.4444444444444444,
              "#bd3786"
             ],
             [
              0.5555555555555556,
              "#d8576b"
             ],
             [
              0.6666666666666666,
              "#ed7953"
             ],
             [
              0.7777777777777778,
              "#fb9f3a"
             ],
             [
              0.8888888888888888,
              "#fdca26"
             ],
             [
              1,
              "#f0f921"
             ]
            ],
            "type": "heatmapgl"
           }
          ],
          "histogram": [
           {
            "marker": {
             "pattern": {
              "fillmode": "overlay",
              "size": 10,
              "solidity": 0.2
             }
            },
            "type": "histogram"
           }
          ],
          "histogram2d": [
           {
            "colorbar": {
             "outlinewidth": 0,
             "ticks": ""
            },
            "colorscale": [
             [
              0,
              "#0d0887"
             ],
             [
              0.1111111111111111,
              "#46039f"
             ],
             [
              0.2222222222222222,
              "#7201a8"
             ],
             [
              0.3333333333333333,
              "#9c179e"
             ],
             [
              0.4444444444444444,
              "#bd3786"
             ],
             [
              0.5555555555555556,
              "#d8576b"
             ],
             [
              0.6666666666666666,
              "#ed7953"
             ],
             [
              0.7777777777777778,
              "#fb9f3a"
             ],
             [
              0.8888888888888888,
              "#fdca26"
             ],
             [
              1,
              "#f0f921"
             ]
            ],
            "type": "histogram2d"
           }
          ],
          "histogram2dcontour": [
           {
            "colorbar": {
             "outlinewidth": 0,
             "ticks": ""
            },
            "colorscale": [
             [
              0,
              "#0d0887"
             ],
             [
              0.1111111111111111,
              "#46039f"
             ],
             [
              0.2222222222222222,
              "#7201a8"
             ],
             [
              0.3333333333333333,
              "#9c179e"
             ],
             [
              0.4444444444444444,
              "#bd3786"
             ],
             [
              0.5555555555555556,
              "#d8576b"
             ],
             [
              0.6666666666666666,
              "#ed7953"
             ],
             [
              0.7777777777777778,
              "#fb9f3a"
             ],
             [
              0.8888888888888888,
              "#fdca26"
             ],
             [
              1,
              "#f0f921"
             ]
            ],
            "type": "histogram2dcontour"
           }
          ],
          "mesh3d": [
           {
            "colorbar": {
             "outlinewidth": 0,
             "ticks": ""
            },
            "type": "mesh3d"
           }
          ],
          "parcoords": [
           {
            "line": {
             "colorbar": {
              "outlinewidth": 0,
              "ticks": ""
             }
            },
            "type": "parcoords"
           }
          ],
          "pie": [
           {
            "automargin": true,
            "type": "pie"
           }
          ],
          "scatter": [
           {
            "marker": {
             "colorbar": {
              "outlinewidth": 0,
              "ticks": ""
             }
            },
            "type": "scatter"
           }
          ],
          "scatter3d": [
           {
            "line": {
             "colorbar": {
              "outlinewidth": 0,
              "ticks": ""
             }
            },
            "marker": {
             "colorbar": {
              "outlinewidth": 0,
              "ticks": ""
             }
            },
            "type": "scatter3d"
           }
          ],
          "scattercarpet": [
           {
            "marker": {
             "colorbar": {
              "outlinewidth": 0,
              "ticks": ""
             }
            },
            "type": "scattercarpet"
           }
          ],
          "scattergeo": [
           {
            "marker": {
             "colorbar": {
              "outlinewidth": 0,
              "ticks": ""
             }
            },
            "type": "scattergeo"
           }
          ],
          "scattergl": [
           {
            "marker": {
             "colorbar": {
              "outlinewidth": 0,
              "ticks": ""
             }
            },
            "type": "scattergl"
           }
          ],
          "scattermapbox": [
           {
            "marker": {
             "colorbar": {
              "outlinewidth": 0,
              "ticks": ""
             }
            },
            "type": "scattermapbox"
           }
          ],
          "scatterpolar": [
           {
            "marker": {
             "colorbar": {
              "outlinewidth": 0,
              "ticks": ""
             }
            },
            "type": "scatterpolar"
           }
          ],
          "scatterpolargl": [
           {
            "marker": {
             "colorbar": {
              "outlinewidth": 0,
              "ticks": ""
             }
            },
            "type": "scatterpolargl"
           }
          ],
          "scatterternary": [
           {
            "marker": {
             "colorbar": {
              "outlinewidth": 0,
              "ticks": ""
             }
            },
            "type": "scatterternary"
           }
          ],
          "surface": [
           {
            "colorbar": {
             "outlinewidth": 0,
             "ticks": ""
            },
            "colorscale": [
             [
              0,
              "#0d0887"
             ],
             [
              0.1111111111111111,
              "#46039f"
             ],
             [
              0.2222222222222222,
              "#7201a8"
             ],
             [
              0.3333333333333333,
              "#9c179e"
             ],
             [
              0.4444444444444444,
              "#bd3786"
             ],
             [
              0.5555555555555556,
              "#d8576b"
             ],
             [
              0.6666666666666666,
              "#ed7953"
             ],
             [
              0.7777777777777778,
              "#fb9f3a"
             ],
             [
              0.8888888888888888,
              "#fdca26"
             ],
             [
              1,
              "#f0f921"
             ]
            ],
            "type": "surface"
           }
          ],
          "table": [
           {
            "cells": {
             "fill": {
              "color": "#EBF0F8"
             },
             "line": {
              "color": "white"
             }
            },
            "header": {
             "fill": {
              "color": "#C8D4E3"
             },
             "line": {
              "color": "white"
             }
            },
            "type": "table"
           }
          ]
         },
         "layout": {
          "annotationdefaults": {
           "arrowcolor": "#2a3f5f",
           "arrowhead": 0,
           "arrowwidth": 1
          },
          "autotypenumbers": "strict",
          "coloraxis": {
           "colorbar": {
            "outlinewidth": 0,
            "ticks": ""
           }
          },
          "colorscale": {
           "diverging": [
            [
             0,
             "#8e0152"
            ],
            [
             0.1,
             "#c51b7d"
            ],
            [
             0.2,
             "#de77ae"
            ],
            [
             0.3,
             "#f1b6da"
            ],
            [
             0.4,
             "#fde0ef"
            ],
            [
             0.5,
             "#f7f7f7"
            ],
            [
             0.6,
             "#e6f5d0"
            ],
            [
             0.7,
             "#b8e186"
            ],
            [
             0.8,
             "#7fbc41"
            ],
            [
             0.9,
             "#4d9221"
            ],
            [
             1,
             "#276419"
            ]
           ],
           "sequential": [
            [
             0,
             "#0d0887"
            ],
            [
             0.1111111111111111,
             "#46039f"
            ],
            [
             0.2222222222222222,
             "#7201a8"
            ],
            [
             0.3333333333333333,
             "#9c179e"
            ],
            [
             0.4444444444444444,
             "#bd3786"
            ],
            [
             0.5555555555555556,
             "#d8576b"
            ],
            [
             0.6666666666666666,
             "#ed7953"
            ],
            [
             0.7777777777777778,
             "#fb9f3a"
            ],
            [
             0.8888888888888888,
             "#fdca26"
            ],
            [
             1,
             "#f0f921"
            ]
           ],
           "sequentialminus": [
            [
             0,
             "#0d0887"
            ],
            [
             0.1111111111111111,
             "#46039f"
            ],
            [
             0.2222222222222222,
             "#7201a8"
            ],
            [
             0.3333333333333333,
             "#9c179e"
            ],
            [
             0.4444444444444444,
             "#bd3786"
            ],
            [
             0.5555555555555556,
             "#d8576b"
            ],
            [
             0.6666666666666666,
             "#ed7953"
            ],
            [
             0.7777777777777778,
             "#fb9f3a"
            ],
            [
             0.8888888888888888,
             "#fdca26"
            ],
            [
             1,
             "#f0f921"
            ]
           ]
          },
          "colorway": [
           "#636efa",
           "#EF553B",
           "#00cc96",
           "#ab63fa",
           "#FFA15A",
           "#19d3f3",
           "#FF6692",
           "#B6E880",
           "#FF97FF",
           "#FECB52"
          ],
          "font": {
           "color": "#2a3f5f"
          },
          "geo": {
           "bgcolor": "white",
           "lakecolor": "white",
           "landcolor": "#E5ECF6",
           "showlakes": true,
           "showland": true,
           "subunitcolor": "white"
          },
          "hoverlabel": {
           "align": "left"
          },
          "hovermode": "closest",
          "mapbox": {
           "style": "light"
          },
          "paper_bgcolor": "white",
          "plot_bgcolor": "#E5ECF6",
          "polar": {
           "angularaxis": {
            "gridcolor": "white",
            "linecolor": "white",
            "ticks": ""
           },
           "bgcolor": "#E5ECF6",
           "radialaxis": {
            "gridcolor": "white",
            "linecolor": "white",
            "ticks": ""
           }
          },
          "scene": {
           "xaxis": {
            "backgroundcolor": "#E5ECF6",
            "gridcolor": "white",
            "gridwidth": 2,
            "linecolor": "white",
            "showbackground": true,
            "ticks": "",
            "zerolinecolor": "white"
           },
           "yaxis": {
            "backgroundcolor": "#E5ECF6",
            "gridcolor": "white",
            "gridwidth": 2,
            "linecolor": "white",
            "showbackground": true,
            "ticks": "",
            "zerolinecolor": "white"
           },
           "zaxis": {
            "backgroundcolor": "#E5ECF6",
            "gridcolor": "white",
            "gridwidth": 2,
            "linecolor": "white",
            "showbackground": true,
            "ticks": "",
            "zerolinecolor": "white"
           }
          },
          "shapedefaults": {
           "line": {
            "color": "#2a3f5f"
           }
          },
          "ternary": {
           "aaxis": {
            "gridcolor": "white",
            "linecolor": "white",
            "ticks": ""
           },
           "baxis": {
            "gridcolor": "white",
            "linecolor": "white",
            "ticks": ""
           },
           "bgcolor": "#E5ECF6",
           "caxis": {
            "gridcolor": "white",
            "linecolor": "white",
            "ticks": ""
           }
          },
          "title": {
           "x": 0.05
          },
          "xaxis": {
           "automargin": true,
           "gridcolor": "white",
           "linecolor": "white",
           "ticks": "",
           "title": {
            "standoff": 15
           },
           "zerolinecolor": "white",
           "zerolinewidth": 2
          },
          "yaxis": {
           "automargin": true,
           "gridcolor": "white",
           "linecolor": "white",
           "ticks": "",
           "title": {
            "standoff": 15
           },
           "zerolinecolor": "white",
           "zerolinewidth": 2
          }
         }
        },
        "xaxis": {
         "anchor": "y",
         "domain": [
          0,
          1
         ],
         "linecolor": "rgb(204, 204, 204)",
         "linewidth": 2,
         "showgrid": false,
         "showline": true,
         "showticklabels": true,
         "tickfont": {
          "color": "rgb(82, 82, 82)",
          "family": "Arial",
          "size": 12
         },
         "ticks": "outside",
         "title": {
          "text": "crash_month"
         }
        },
        "yaxis": {
         "anchor": "x",
         "autorange": true,
         "domain": [
          0,
          1
         ],
         "gridcolor": "rgb(235, 236, 240)",
         "showline": true,
         "showticklabels": true,
         "title": {
          "text": ""
         },
         "zeroline": false
        }
       }
      }
     },
     "metadata": {},
     "output_type": "display_data"
    }
   ],
   "source": [
    "fig = px.line(by_year_and_boro, x=\"crash_month\", y=\"collision_id\", color='crash_year')\n",
    "\n",
    "fig.for_each_trace(lambda trace: fig.add_annotation(\n",
    "    x=trace.x[-1], y=trace.y[-1], text='  '+trace.name, \n",
    "    font_color=trace.line.color,\n",
    "    ax=10, ay=10, xanchor=\"left\", showarrow=False))\n",
    "\n",
    "# fig.update_yaxes(title='y', visible=False, showticklabels=True)    \n",
    "fig.update_layout(\n",
    "        xaxis=dict(\n",
    "            showline=True,\n",
    "            showgrid=False,\n",
    "            showticklabels=True,\n",
    "            linecolor='rgb(204, 204, 204)',\n",
    "            linewidth=2,\n",
    "            ticks='outside',\n",
    "            tickfont=dict(\n",
    "                family='Arial',\n",
    "                size=12,\n",
    "                color='rgb(82, 82, 82)',\n",
    "            ),\n",
    "        ),\n",
    "        yaxis=dict(\n",
    "            # showgrid=True,\n",
    "            zeroline=False,\n",
    "            showline=True,\n",
    "            gridcolor = 'rgb(235, 236, 240)',\n",
    "            showticklabels=True,\n",
    "            title='',\n",
    "            autorange=True\n",
    "        ),\n",
    "        autosize=True,\n",
    "        hovermode=\"x unified\",\n",
    "        # margin=dict(\n",
    "        #     autoexpand=True,\n",
    "        #     l=100,\n",
    "        #     r=20,\n",
    "        #     t=110,\n",
    "        # ),\n",
    "        showlegend=False,\n",
    "#         legend=dict(\n",
    "#         # orientation=\"h\",\n",
    "#         yanchor=\"bottom\",\n",
    "#         y=0.9,\n",
    "#         xanchor=\"left\",\n",
    "#         x=0.7\n",
    "# ),\n",
    "        plot_bgcolor='rgba(0,0,0,0)'\n",
    "    )\n",
    "fig.show()"
   ]
  },
  {
   "cell_type": "code",
   "execution_count": 6,
   "metadata": {},
   "outputs": [
    {
     "data": {
      "text/html": [
       "<div>\n",
       "<style scoped>\n",
       "    .dataframe tbody tr th:only-of-type {\n",
       "        vertical-align: middle;\n",
       "    }\n",
       "\n",
       "    .dataframe tbody tr th {\n",
       "        vertical-align: top;\n",
       "    }\n",
       "\n",
       "    .dataframe thead th {\n",
       "        text-align: right;\n",
       "    }\n",
       "</style>\n",
       "<table border=\"1\" class=\"dataframe\">\n",
       "  <thead>\n",
       "    <tr style=\"text-align: right;\">\n",
       "      <th></th>\n",
       "      <th>crash_year</th>\n",
       "      <th>crash_month_year</th>\n",
       "      <th>crash_month</th>\n",
       "      <th>crash_date</th>\n",
       "      <th>borough</th>\n",
       "      <th>on_street_name</th>\n",
       "      <th>contributing_factor_vehicle_1</th>\n",
       "      <th>total_collisions</th>\n",
       "      <th>number_of_persons_injured</th>\n",
       "      <th>number_of_persons_killed</th>\n",
       "      <th>number_of_pedestrians_injured</th>\n",
       "      <th>number_of_pedestrians_killed</th>\n",
       "      <th>number_of_cyclist_injured</th>\n",
       "      <th>number_of_cyclist_killed</th>\n",
       "      <th>number_of_motorist_injured</th>\n",
       "      <th>number_of_motorist_killed</th>\n",
       "    </tr>\n",
       "  </thead>\n",
       "  <tbody>\n",
       "    <tr>\n",
       "      <th>0</th>\n",
       "      <td>2012</td>\n",
       "      <td>2012-07</td>\n",
       "      <td>July</td>\n",
       "      <td>2012-07-01</td>\n",
       "      <td></td>\n",
       "      <td></td>\n",
       "      <td>Alcohol Involvement</td>\n",
       "      <td>1</td>\n",
       "      <td>0</td>\n",
       "      <td>0</td>\n",
       "      <td>0</td>\n",
       "      <td>0</td>\n",
       "      <td>0</td>\n",
       "      <td>0</td>\n",
       "      <td>0</td>\n",
       "      <td>0</td>\n",
       "    </tr>\n",
       "    <tr>\n",
       "      <th>1</th>\n",
       "      <td>2012</td>\n",
       "      <td>2012-07</td>\n",
       "      <td>July</td>\n",
       "      <td>2012-07-01</td>\n",
       "      <td></td>\n",
       "      <td></td>\n",
       "      <td>Backing Unsafely</td>\n",
       "      <td>3</td>\n",
       "      <td>0</td>\n",
       "      <td>0</td>\n",
       "      <td>0</td>\n",
       "      <td>0</td>\n",
       "      <td>0</td>\n",
       "      <td>0</td>\n",
       "      <td>0</td>\n",
       "      <td>0</td>\n",
       "    </tr>\n",
       "    <tr>\n",
       "      <th>2</th>\n",
       "      <td>2012</td>\n",
       "      <td>2012-07</td>\n",
       "      <td>July</td>\n",
       "      <td>2012-07-01</td>\n",
       "      <td></td>\n",
       "      <td></td>\n",
       "      <td>Driver Inattention/Distraction</td>\n",
       "      <td>8</td>\n",
       "      <td>2</td>\n",
       "      <td>0</td>\n",
       "      <td>0</td>\n",
       "      <td>0</td>\n",
       "      <td>0</td>\n",
       "      <td>0</td>\n",
       "      <td>2</td>\n",
       "      <td>0</td>\n",
       "    </tr>\n",
       "    <tr>\n",
       "      <th>3</th>\n",
       "      <td>2012</td>\n",
       "      <td>2012-07</td>\n",
       "      <td>July</td>\n",
       "      <td>2012-07-01</td>\n",
       "      <td></td>\n",
       "      <td></td>\n",
       "      <td>Failure to Keep Right</td>\n",
       "      <td>1</td>\n",
       "      <td>1</td>\n",
       "      <td>0</td>\n",
       "      <td>0</td>\n",
       "      <td>0</td>\n",
       "      <td>0</td>\n",
       "      <td>0</td>\n",
       "      <td>1</td>\n",
       "      <td>0</td>\n",
       "    </tr>\n",
       "    <tr>\n",
       "      <th>4</th>\n",
       "      <td>2012</td>\n",
       "      <td>2012-07</td>\n",
       "      <td>July</td>\n",
       "      <td>2012-07-01</td>\n",
       "      <td></td>\n",
       "      <td></td>\n",
       "      <td>Failure to Yield Right-of-Way</td>\n",
       "      <td>2</td>\n",
       "      <td>0</td>\n",
       "      <td>0</td>\n",
       "      <td>0</td>\n",
       "      <td>0</td>\n",
       "      <td>0</td>\n",
       "      <td>0</td>\n",
       "      <td>0</td>\n",
       "      <td>0</td>\n",
       "    </tr>\n",
       "  </tbody>\n",
       "</table>\n",
       "</div>"
      ],
      "text/plain": [
       "   crash_year crash_month_year crash_month crash_date borough on_street_name  \\\n",
       "0        2012          2012-07        July 2012-07-01                          \n",
       "1        2012          2012-07        July 2012-07-01                          \n",
       "2        2012          2012-07        July 2012-07-01                          \n",
       "3        2012          2012-07        July 2012-07-01                          \n",
       "4        2012          2012-07        July 2012-07-01                          \n",
       "\n",
       "    contributing_factor_vehicle_1  total_collisions  \\\n",
       "0             Alcohol Involvement                 1   \n",
       "1                Backing Unsafely                 3   \n",
       "2  Driver Inattention/Distraction                 8   \n",
       "3           Failure to Keep Right                 1   \n",
       "4   Failure to Yield Right-of-Way                 2   \n",
       "\n",
       "   number_of_persons_injured  number_of_persons_killed  \\\n",
       "0                          0                         0   \n",
       "1                          0                         0   \n",
       "2                          2                         0   \n",
       "3                          1                         0   \n",
       "4                          0                         0   \n",
       "\n",
       "   number_of_pedestrians_injured  number_of_pedestrians_killed  \\\n",
       "0                              0                             0   \n",
       "1                              0                             0   \n",
       "2                              0                             0   \n",
       "3                              0                             0   \n",
       "4                              0                             0   \n",
       "\n",
       "   number_of_cyclist_injured  number_of_cyclist_killed  \\\n",
       "0                          0                         0   \n",
       "1                          0                         0   \n",
       "2                          0                         0   \n",
       "3                          0                         0   \n",
       "4                          0                         0   \n",
       "\n",
       "   number_of_motorist_injured  number_of_motorist_killed  \n",
       "0                           0                          0  \n",
       "1                           0                          0  \n",
       "2                           2                          0  \n",
       "3                           1                          0  \n",
       "4                           0                          0  "
      ]
     },
     "execution_count": 6,
     "metadata": {},
     "output_type": "execute_result"
    }
   ],
   "source": [
    "aggregated_df = historical_df.groupby(['crash_year', 'crash_month_year', 'crash_month', 'crash_date', 'borough', 'on_street_name', 'contributing_factor_vehicle_1']).agg({\n",
    "    'collision_id': 'count',\n",
    "    'number_of_persons_injured': 'sum',\n",
    "    'number_of_persons_killed': 'sum',\n",
    "    'number_of_pedestrians_injured': 'sum',\n",
    "    'number_of_pedestrians_killed': 'sum',\n",
    "    'number_of_cyclist_injured': 'sum',\n",
    "    'number_of_cyclist_killed': 'sum',\n",
    "    'number_of_motorist_injured': 'sum',\n",
    "    'number_of_motorist_killed': 'sum'\n",
    "})\n",
    "aggregated_df.rename(columns={\n",
    "    'collision_id':'total_collisions'\n",
    "}, inplace=True)\n",
    "aggregated_df.reset_index(inplace=True)\n",
    "aggregated_df.head()"
   ]
  },
  {
   "cell_type": "code",
   "execution_count": 6,
   "metadata": {},
   "outputs": [],
   "source": [
    "# fig = go.Figure()\n",
    "# for contestant, year in aggregated_df.groupby(\"crash_year\"):\n",
    "#   fig.add_trace(go.Bar(x=year[\"crash_month\"], y=year[\"total_collisions\"]))\n",
    "# fig.update_layout(legend_title_text = \"Contestant\")\n",
    "# fig.update_xaxes(title_text=\"Fruit\")\n",
    "# fig.update_yaxes(title_text=\"Number Eaten\")\n",
    "# fig.show()"
   ]
  },
  {
   "cell_type": "code",
   "execution_count": 9,
   "metadata": {},
   "outputs": [
    {
     "data": {
      "text/plain": [
       "304279"
      ]
     },
     "execution_count": 9,
     "metadata": {},
     "output_type": "execute_result"
    }
   ],
   "source": [
    "metrics = ['total_collisions', 'number_of_persons_injured', 'number_of_persons_killed', 'number_of_pedestrians_injured', 'number_of_pedestrians_killed', 'number_of_cyclist_injured', 'number_of_cyclist_killed', 'number_of_motorist_injured', 'number_of_motorist_killed']\n",
    "\n",
    "years = list(range(2012, 2022))\n",
    "\n",
    "aggregated_df[aggregated_df['crash_year'].isin([2012, 2013])]['total_collisions'].sum()"
   ]
  },
  {
   "cell_type": "code",
   "execution_count": 10,
   "metadata": {},
   "outputs": [
    {
     "data": {
      "text/plain": [
       "{'total_collisions': 100545}"
      ]
     },
     "execution_count": 10,
     "metadata": {},
     "output_type": "execute_result"
    }
   ],
   "source": [
    "years = list(range(2012, 2022))\n",
    "metrics = aggregated_df.columns\n",
    "\n",
    "\n",
    "def get_total(year, metric):\n",
    "    \n",
    "    total = aggregated_df[aggregated_df['crash_year'].isin([year])][metric].sum()\n",
    "    results = {}\n",
    "    results[metric] = total\n",
    "    return results\n",
    "    # df = pd.DataFrame({f'{metric}': total}, index=[year])\n",
    "    # return df\n",
    "\n",
    "\n",
    "\n",
    "for y in years:\n",
    "    results = get_total(2012, 'total_collisions')\n",
    "\n",
    "results"
   ]
  },
  {
   "cell_type": "code",
   "execution_count": 141,
   "metadata": {},
   "outputs": [],
   "source": [
    "# aggregated_df.groupby(['crash_year', 'crash_month', 'borough']).sum()"
   ]
  },
  {
   "cell_type": "code",
   "execution_count": 62,
   "metadata": {},
   "outputs": [
    {
     "name": "stdout",
     "output_type": "stream",
     "text": [
      "[137, 297, 262, 243, 246, 256, 231, 244, 269, 286]\n"
     ]
    }
   ],
   "source": [
    "years = list(range(2012, 2022))\n",
    "metrics = aggregated_df.columns\n",
    "months = list(range(1,13))\n",
    "\n",
    "total_collisions =[]\n",
    "for year in years:\n",
    "    total_collisions.append(aggregated_df.query(str(year))['number_of_persons_killed'].sum().tolist())\n",
    "print(total_collisions)"
   ]
  },
  {
   "cell_type": "code",
   "execution_count": 1,
   "metadata": {},
   "outputs": [],
   "source": [
    "# fig = go.Figure()\n",
    "# months = list(range(1,13))\n",
    "# for year in years:\n",
    "#     total_collisions =[]\n",
    "#     total_collisions = total_collisions.append(aggregated_df.query(str(year))['number_of_persons_killed'].sum().tolist())\n",
    "#     fig.add_trace(\n",
    "#         go.Scatter(\n",
    "#             x=months,\n",
    "#             y=total_collisions\n",
    "#         ))\n",
    "# fig"
   ]
  },
  {
   "cell_type": "code",
   "execution_count": 132,
   "metadata": {},
   "outputs": [
    {
     "data": {
      "text/plain": [
       "0"
      ]
     },
     "execution_count": 132,
     "metadata": {},
     "output_type": "execute_result"
    }
   ],
   "source": [
    "aggregated_df.query('2022')['number_of_motorist_injured'].sum()"
   ]
  }
 ],
 "metadata": {
  "interpreter": {
   "hash": "93cf9b445a7ce80944eeed222c8fa26f50aeb6bbebabaea2e07e950c5330a365"
  },
  "kernelspec": {
   "display_name": "Python 3.7.11 64-bit ('data-analysis': conda)",
   "language": "python",
   "name": "python3"
  },
  "language_info": {
   "codemirror_mode": {
    "name": "ipython",
    "version": 3
   },
   "file_extension": ".py",
   "mimetype": "text/x-python",
   "name": "python",
   "nbconvert_exporter": "python",
   "pygments_lexer": "ipython3",
   "version": "3.8.12"
  },
  "orig_nbformat": 4
 },
 "nbformat": 4,
 "nbformat_minor": 2
}
